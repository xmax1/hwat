{
 "cells": [
  {
   "cell_type": "code",
   "execution_count": 1,
   "metadata": {},
   "outputs": [],
   "source": [
    "# Distribution ✨ jit ❇ Demo 💪 \n",
    "%load_ext autoreload\n",
    "%autoreload 2\n",
    "\n",
    "import os\n",
    "os.environ['CUDA_VISIBLE_DEVICES'] = '0'\n",
    "# from jax.config import config\n",
    "# config.update('jax_disable_jit', True)\n",
    "from functools import partial\n",
    "import numpy as np\n",
    "\n",
    "import jax\n",
    "from jax import pmap, grad\n",
    "from jax import numpy as jnp\n",
    "from flax.training.train_state import TrainState\n",
    "\n",
    "from pyfig import Pyfig\n",
    "from hwat import FermiNet, sample, compute_ke_b, PotentialEnergy\n",
    "from hwat import PotentialEnergy, sample, compute_ke_b\n",
    "import wandb"
   ]
  },
  {
   "cell_type": "code",
   "execution_count": 10,
   "metadata": {},
   "outputs": [],
   "source": [
    "\n",
    "def compute_metrix(d:dict, specific:list|dict=None):\n",
    "\tfrom flax.core.frozen_dict import FrozenDict\n",
    "\t# specific: dict = {metric: [variable,]}\n",
    "\tdef compute_mean_std(_d, k, v):\n",
    "\t\ttry:\n",
    "\t\t\t_d[k+r'_\\mu'], _d[k+r'_\\sigma'] = np.mean(v), np.std(v)\n",
    "\t\texcept:\n",
    "\t\t\tprint(f'Could not compute mean or std of {k} type {type(v)}')\n",
    "\t\treturn _d\n",
    "\t\n",
    "\tfancy = dict(\n",
    "\t\tpe\t\t= r'V(X)',    \t\t\t\t\n",
    "\t\tke\t\t= r'$\\nabla^2',    \t\t\n",
    "\t\te\t\t= r'E',\t\t\t\t\t\t\n",
    "\t\tlog_psi\t= r'$\\log\\psi$', \t\t\t\n",
    "\t\tdeltar\t= r'\\delta_\\mathrm{r}',\t\n",
    "\t\tx\t\t= r'r_\\mathrm{e}',\n",
    "\t)\n",
    "\t_d = {}\n",
    "\t\n",
    "\tfor k,v in d.items():\n",
    "\t\tk = fancy.get(k, k)\n",
    "\t\tif isinstance(v, FrozenDict):\n",
    "\t\t\tv = v.unfreeze()\n",
    "\n",
    "\t\tv = jax.tree_map(lambda x: np.array(jax.device_get(x)), v)\n",
    "\t\tv_mean = jax.tree_map(lambda x: x.mean(), v)\n",
    "\t\tv_std = jax.tree_map(lambda x: x.std(), v)\n",
    "\n",
    "\t\tprint(k, type(v))\n",
    "\n",
    "\t\tk_mean, k_std = k+r'_\\mu', k+r'_\\sigma'\n",
    "\t\tif isinstance(v, dict):\n",
    "\t\t\tfor (k_sub, v_m_sub), (_, v_s_sub) in zip(v_mean.items(), v_std.items()):\n",
    "\t\t\t\t_d[f'{k}/{k_sub}_mean'] = v_m_sub\n",
    "\t\t\t\t_d[f'{k}/{k_sub}_std'] = v_s_sub\n",
    "\t\telse:\n",
    "\t\t\t_d[k_mean], _d[k_std] = v_mean, v_std\n",
    "\n",
    "\t\t# if isinstance(v, dict or list):\n",
    "\t\t# \t_d[k] = compute_metrix(v)\n",
    "\t\t# compute_mean_std(_d, k, v)\n",
    "\tfor k,v in _d.items():\n",
    "\t\tprint(k, type(v))\n",
    "\treturn _d\n"
   ]
  },
  {
   "cell_type": "code",
   "execution_count": null,
   "metadata": {},
   "outputs": [
    {
     "name": "stdout",
     "output_type": "stream",
     "text": [
      "path exists, leaving alone\n"
     ]
    },
    {
     "data": {
      "text/html": [
       "Finishing last run (ID:owipjm74) before initializing another..."
      ],
      "text/plain": [
       "<IPython.core.display.HTML object>"
      ]
     },
     "metadata": {},
     "output_type": "display_data"
    },
    {
     "data": {
      "text/html": [
       "Waiting for W&B process to finish... <strong style=\"color:green\">(success).</strong>"
      ],
      "text/plain": [
       "<IPython.core.display.HTML object>"
      ]
     },
     "metadata": {},
     "output_type": "display_data"
    },
    {
     "data": {
      "application/vnd.jupyter.widget-view+json": {
       "model_id": "b963bb9f7fa44dd0942e8213f02d6275",
       "version_major": 2,
       "version_minor": 0
      },
      "text/plain": [
       "VBox(children=(Label(value='0.005 MB of 0.005 MB uploaded (0.000 MB deduped)\\r'), FloatProgress(value=1.0, max…"
      ]
     },
     "metadata": {},
     "output_type": "display_data"
    },
    {
     "data": {
      "text/html": [
       "Synced <strong style=\"color:#cdcd00\">dutiful-plant-17</strong>: <a href=\"https://wandb.ai/xmax1/hwat/runs/owipjm74\" target=\"_blank\">https://wandb.ai/xmax1/hwat/runs/owipjm74</a><br/>Synced 6 W&B file(s), 0 media file(s), 0 artifact file(s) and 0 other file(s)"
      ],
      "text/plain": [
       "<IPython.core.display.HTML object>"
      ]
     },
     "metadata": {},
     "output_type": "display_data"
    },
    {
     "data": {
      "text/html": [
       "Find logs at: <code>./exp/junk-0/Vg0V4XX/wandb/run-20221129_190447-owipjm74/logs</code>"
      ],
      "text/plain": [
       "<IPython.core.display.HTML object>"
      ]
     },
     "metadata": {},
     "output_type": "display_data"
    },
    {
     "data": {
      "text/html": [
       "Successfully finished last run (ID:owipjm74). Initializing new run:<br/>"
      ],
      "text/plain": [
       "<IPython.core.display.HTML object>"
      ]
     },
     "metadata": {},
     "output_type": "display_data"
    },
    {
     "data": {
      "application/vnd.jupyter.widget-view+json": {
       "model_id": "dccab02126e44bea8cf8d513777fe646",
       "version_major": 2,
       "version_minor": 0
      },
      "text/plain": [
       "VBox(children=(Label(value='Waiting for wandb.init()...\\r'), FloatProgress(value=0.016669230915916464, max=1.0…"
      ]
     },
     "metadata": {},
     "output_type": "display_data"
    },
    {
     "data": {
      "text/html": [
       "Tracking run with wandb version 0.13.5"
      ],
      "text/plain": [
       "<IPython.core.display.HTML object>"
      ]
     },
     "metadata": {},
     "output_type": "display_data"
    },
    {
     "data": {
      "text/html": [
       "Run data is saved locally in <code>/home/amawi/projects/hwat/exp/junk-0/Vg0V4XX/wandb/run-20221129_190506-2qnpkto7</code>"
      ],
      "text/plain": [
       "<IPython.core.display.HTML object>"
      ]
     },
     "metadata": {},
     "output_type": "display_data"
    },
    {
     "data": {
      "text/html": [
       "Syncing run <strong><a href=\"https://wandb.ai/xmax1/hwat/runs/2qnpkto7\" target=\"_blank\">pretty-water-18</a></strong> to <a href=\"https://wandb.ai/xmax1/hwat\" target=\"_blank\">Weights & Biases</a> (<a href=\"https://wandb.me/run\" target=\"_blank\">docs</a>)<br/>"
      ],
      "text/plain": [
       "<IPython.core.display.HTML object>"
      ]
     },
     "metadata": {},
     "output_type": "display_data"
    },
    {
     "name": "stdout",
     "output_type": "stream",
     "text": [
      "Pyfig ✅\n",
      "Train Step ✅\n",
      "Walkers ✅\n",
      "Model ✅\n",
      "Training Variables ✅\n",
      "1\n"
     ]
    },
    {
     "ename": "TypeError",
     "evalue": "Object of type FrozenDict is not JSON serializable",
     "output_type": "error",
     "traceback": [
      "\u001b[0;31m---------------------------------------------------------------------------\u001b[0m\n",
      "\u001b[0;31mTypeError\u001b[0m                                 Traceback (most recent call last)\n",
      "Cell \u001b[0;32mIn [9], line 67\u001b[0m\n",
      "\u001b[1;32m     65\u001b[0m \tmetrix \u001b[39m=\u001b[39m compute_metrix(data)\n",
      "\u001b[1;32m     66\u001b[0m \twm \u001b[39m=\u001b[39m {\u001b[39mf\u001b[39m\u001b[39m'\u001b[39m\u001b[39mtr/\u001b[39m\u001b[39m{\u001b[39;00mk\u001b[39m}\u001b[39;00m\u001b[39m'\u001b[39m: v \u001b[39mfor\u001b[39;00m k, v \u001b[39min\u001b[39;00m metrix\u001b[39m.\u001b[39mitems()}\n",
      "\u001b[0;32m---> 67\u001b[0m \twandb\u001b[39m.\u001b[39;49mlog({\u001b[39m'\u001b[39;49m\u001b[39mtr/step\u001b[39;49m\u001b[39m'\u001b[39;49m: step, \u001b[39m*\u001b[39;49m\u001b[39m*\u001b[39;49mwm})\t\n",
      "\u001b[1;32m     68\u001b[0m \u001b[39mif\u001b[39;00m step \u001b[39m%\u001b[39m c\u001b[39m.\u001b[39mlog_state_step:\n",
      "\u001b[1;32m     69\u001b[0m \t\u001b[39mprint\u001b[39m(\u001b[39m'\u001b[39m\u001b[39mnot implemented\u001b[39m\u001b[39m'\u001b[39m)\n",
      "\n",
      "File \u001b[0;32m~/.conda/envs/dex/lib/python3.10/site-packages/wandb/sdk/wandb_run.py:292\u001b[0m, in \u001b[0;36m_run_decorator._noop.<locals>.wrapper\u001b[0;34m(self, *args, **kwargs)\u001b[0m\n",
      "\u001b[1;32m    289\u001b[0m         wandb\u001b[39m.\u001b[39mtermwarn(message, repeat\u001b[39m=\u001b[39m\u001b[39mFalse\u001b[39;00m)\n",
      "\u001b[1;32m    290\u001b[0m         \u001b[39mreturn\u001b[39;00m \u001b[39mcls\u001b[39m\u001b[39m.\u001b[39mDummy()\n",
      "\u001b[0;32m--> 292\u001b[0m \u001b[39mreturn\u001b[39;00m func(\u001b[39mself\u001b[39;49m, \u001b[39m*\u001b[39;49margs, \u001b[39m*\u001b[39;49m\u001b[39m*\u001b[39;49mkwargs)\n",
      "\n",
      "File \u001b[0;32m~/.conda/envs/dex/lib/python3.10/site-packages/wandb/sdk/wandb_run.py:255\u001b[0m, in \u001b[0;36m_run_decorator._attach.<locals>.wrapper\u001b[0;34m(self, *args, **kwargs)\u001b[0m\n",
      "\u001b[1;32m    253\u001b[0m         \u001b[39mraise\u001b[39;00m e\n",
      "\u001b[1;32m    254\u001b[0m     \u001b[39mcls\u001b[39m\u001b[39m.\u001b[39m_is_attaching \u001b[39m=\u001b[39m \u001b[39m\"\u001b[39m\u001b[39m\"\u001b[39m\n",
      "\u001b[0;32m--> 255\u001b[0m \u001b[39mreturn\u001b[39;00m func(\u001b[39mself\u001b[39;49m, \u001b[39m*\u001b[39;49margs, \u001b[39m*\u001b[39;49m\u001b[39m*\u001b[39;49mkwargs)\n",
      "\n",
      "File \u001b[0;32m~/.conda/envs/dex/lib/python3.10/site-packages/wandb/sdk/wandb_run.py:1609\u001b[0m, in \u001b[0;36mRun.log\u001b[0;34m(self, data, step, commit, sync)\u001b[0m\n",
      "\u001b[1;32m   1602\u001b[0m \u001b[39mif\u001b[39;00m sync \u001b[39mis\u001b[39;00m \u001b[39mnot\u001b[39;00m \u001b[39mNone\u001b[39;00m:\n",
      "\u001b[1;32m   1603\u001b[0m     deprecate\u001b[39m.\u001b[39mdeprecate(\n",
      "\u001b[1;32m   1604\u001b[0m         field_name\u001b[39m=\u001b[39mdeprecate\u001b[39m.\u001b[39mDeprecated\u001b[39m.\u001b[39mrun__log_sync,\n",
      "\u001b[1;32m   1605\u001b[0m         warning_message\u001b[39m=\u001b[39m(\n",
      "\u001b[1;32m   1606\u001b[0m             \u001b[39m\"\u001b[39m\u001b[39m`sync` argument is deprecated and does not affect the behaviour of `wandb.log`\u001b[39m\u001b[39m\"\u001b[39m\n",
      "\u001b[1;32m   1607\u001b[0m         ),\n",
      "\u001b[1;32m   1608\u001b[0m     )\n",
      "\u001b[0;32m-> 1609\u001b[0m \u001b[39mself\u001b[39;49m\u001b[39m.\u001b[39;49m_log(data\u001b[39m=\u001b[39;49mdata, step\u001b[39m=\u001b[39;49mstep, commit\u001b[39m=\u001b[39;49mcommit)\n",
      "\n",
      "File \u001b[0;32m~/.conda/envs/dex/lib/python3.10/site-packages/wandb/sdk/wandb_run.py:1391\u001b[0m, in \u001b[0;36mRun._log\u001b[0;34m(self, data, step, commit)\u001b[0m\n",
      "\u001b[1;32m   1388\u001b[0m \u001b[39mif\u001b[39;00m \u001b[39many\u001b[39m(\u001b[39mnot\u001b[39;00m \u001b[39misinstance\u001b[39m(key, \u001b[39mstr\u001b[39m) \u001b[39mfor\u001b[39;00m key \u001b[39min\u001b[39;00m data\u001b[39m.\u001b[39mkeys()):\n",
      "\u001b[1;32m   1389\u001b[0m     \u001b[39mraise\u001b[39;00m \u001b[39mValueError\u001b[39;00m(\u001b[39m\"\u001b[39m\u001b[39mKey values passed to `wandb.log` must be strings.\u001b[39m\u001b[39m\"\u001b[39m)\n",
      "\u001b[0;32m-> 1391\u001b[0m \u001b[39mself\u001b[39;49m\u001b[39m.\u001b[39;49m_partial_history_callback(data, step, commit)\n",
      "\u001b[1;32m   1393\u001b[0m \u001b[39mif\u001b[39;00m step \u001b[39mis\u001b[39;00m \u001b[39mnot\u001b[39;00m \u001b[39mNone\u001b[39;00m:\n",
      "\u001b[1;32m   1394\u001b[0m     \u001b[39mif\u001b[39;00m os\u001b[39m.\u001b[39mgetpid() \u001b[39m!=\u001b[39m \u001b[39mself\u001b[39m\u001b[39m.\u001b[39m_init_pid \u001b[39mor\u001b[39;00m \u001b[39mself\u001b[39m\u001b[39m.\u001b[39m_is_attached:\n",
      "\n",
      "File \u001b[0;32m~/.conda/envs/dex/lib/python3.10/site-packages/wandb/sdk/wandb_run.py:1275\u001b[0m, in \u001b[0;36mRun._partial_history_callback\u001b[0;34m(self, row, step, commit)\u001b[0m\n",
      "\u001b[1;32m   1272\u001b[0m \u001b[39mif\u001b[39;00m \u001b[39mself\u001b[39m\u001b[39m.\u001b[39m_backend \u001b[39mand\u001b[39;00m \u001b[39mself\u001b[39m\u001b[39m.\u001b[39m_backend\u001b[39m.\u001b[39minterface:\n",
      "\u001b[1;32m   1273\u001b[0m     not_using_tensorboard \u001b[39m=\u001b[39m \u001b[39mlen\u001b[39m(wandb\u001b[39m.\u001b[39mpatched[\u001b[39m\"\u001b[39m\u001b[39mtensorboard\u001b[39m\u001b[39m\"\u001b[39m]) \u001b[39m==\u001b[39m \u001b[39m0\u001b[39m\n",
      "\u001b[0;32m-> 1275\u001b[0m     \u001b[39mself\u001b[39;49m\u001b[39m.\u001b[39;49m_backend\u001b[39m.\u001b[39;49minterface\u001b[39m.\u001b[39;49mpublish_partial_history(\n",
      "\u001b[1;32m   1276\u001b[0m         row,\n",
      "\u001b[1;32m   1277\u001b[0m         user_step\u001b[39m=\u001b[39;49m\u001b[39mself\u001b[39;49m\u001b[39m.\u001b[39;49m_step,\n",
      "\u001b[1;32m   1278\u001b[0m         step\u001b[39m=\u001b[39;49mstep,\n",
      "\u001b[1;32m   1279\u001b[0m         flush\u001b[39m=\u001b[39;49mcommit,\n",
      "\u001b[1;32m   1280\u001b[0m         publish_step\u001b[39m=\u001b[39;49mnot_using_tensorboard,\n",
      "\u001b[1;32m   1281\u001b[0m     )\n",
      "\n",
      "File \u001b[0;32m~/.conda/envs/dex/lib/python3.10/site-packages/wandb/sdk/interface/interface.py:554\u001b[0m, in \u001b[0;36mInterfaceBase.publish_partial_history\u001b[0;34m(self, data, user_step, step, flush, publish_step, run)\u001b[0m\n",
      "\u001b[1;32m    552\u001b[0m     item \u001b[39m=\u001b[39m partial_history\u001b[39m.\u001b[39mitem\u001b[39m.\u001b[39madd()\n",
      "\u001b[1;32m    553\u001b[0m     item\u001b[39m.\u001b[39mkey \u001b[39m=\u001b[39m k\n",
      "\u001b[0;32m--> 554\u001b[0m     item\u001b[39m.\u001b[39mvalue_json \u001b[39m=\u001b[39m json_dumps_safer_history(v)\n",
      "\u001b[1;32m    556\u001b[0m \u001b[39mif\u001b[39;00m publish_step \u001b[39mand\u001b[39;00m step \u001b[39mis\u001b[39;00m \u001b[39mnot\u001b[39;00m \u001b[39mNone\u001b[39;00m:\n",
      "\u001b[1;32m    557\u001b[0m     partial_history\u001b[39m.\u001b[39mstep\u001b[39m.\u001b[39mnum \u001b[39m=\u001b[39m step\n",
      "\n",
      "File \u001b[0;32m~/.conda/envs/dex/lib/python3.10/site-packages/wandb/util.py:920\u001b[0m, in \u001b[0;36mjson_dumps_safer_history\u001b[0;34m(obj, **kwargs)\u001b[0m\n",
      "\u001b[1;32m    918\u001b[0m \u001b[39mdef\u001b[39;00m \u001b[39mjson_dumps_safer_history\u001b[39m(obj: Any, \u001b[39m*\u001b[39m\u001b[39m*\u001b[39mkwargs: Any) \u001b[39m-\u001b[39m\u001b[39m>\u001b[39m \u001b[39mstr\u001b[39m:\n",
      "\u001b[1;32m    919\u001b[0m     \u001b[39m\"\"\"Convert obj to json, with some extra encodable types, including histograms\"\"\"\u001b[39;00m\n",
      "\u001b[0;32m--> 920\u001b[0m     \u001b[39mreturn\u001b[39;00m json\u001b[39m.\u001b[39;49mdumps(obj, \u001b[39mcls\u001b[39;49m\u001b[39m=\u001b[39;49mWandBHistoryJSONEncoder, \u001b[39m*\u001b[39;49m\u001b[39m*\u001b[39;49mkwargs)\n",
      "\n",
      "File \u001b[0;32m~/.conda/envs/dex/lib/python3.10/json/__init__.py:238\u001b[0m, in \u001b[0;36mdumps\u001b[0;34m(obj, skipkeys, ensure_ascii, check_circular, allow_nan, cls, indent, separators, default, sort_keys, **kw)\u001b[0m\n",
      "\u001b[1;32m    232\u001b[0m \u001b[39mif\u001b[39;00m \u001b[39mcls\u001b[39m \u001b[39mis\u001b[39;00m \u001b[39mNone\u001b[39;00m:\n",
      "\u001b[1;32m    233\u001b[0m     \u001b[39mcls\u001b[39m \u001b[39m=\u001b[39m JSONEncoder\n",
      "\u001b[1;32m    234\u001b[0m \u001b[39mreturn\u001b[39;00m \u001b[39mcls\u001b[39;49m(\n",
      "\u001b[1;32m    235\u001b[0m     skipkeys\u001b[39m=\u001b[39;49mskipkeys, ensure_ascii\u001b[39m=\u001b[39;49mensure_ascii,\n",
      "\u001b[1;32m    236\u001b[0m     check_circular\u001b[39m=\u001b[39;49mcheck_circular, allow_nan\u001b[39m=\u001b[39;49mallow_nan, indent\u001b[39m=\u001b[39;49mindent,\n",
      "\u001b[1;32m    237\u001b[0m     separators\u001b[39m=\u001b[39;49mseparators, default\u001b[39m=\u001b[39;49mdefault, sort_keys\u001b[39m=\u001b[39;49msort_keys,\n",
      "\u001b[0;32m--> 238\u001b[0m     \u001b[39m*\u001b[39;49m\u001b[39m*\u001b[39;49mkw)\u001b[39m.\u001b[39;49mencode(obj)\n",
      "\n",
      "File \u001b[0;32m~/.conda/envs/dex/lib/python3.10/json/encoder.py:199\u001b[0m, in \u001b[0;36mJSONEncoder.encode\u001b[0;34m(self, o)\u001b[0m\n",
      "\u001b[1;32m    195\u001b[0m         \u001b[39mreturn\u001b[39;00m encode_basestring(o)\n",
      "\u001b[1;32m    196\u001b[0m \u001b[39m# This doesn't pass the iterator directly to ''.join() because the\u001b[39;00m\n",
      "\u001b[1;32m    197\u001b[0m \u001b[39m# exceptions aren't as detailed.  The list call should be roughly\u001b[39;00m\n",
      "\u001b[1;32m    198\u001b[0m \u001b[39m# equivalent to the PySequence_Fast that ''.join() would do.\u001b[39;00m\n",
      "\u001b[0;32m--> 199\u001b[0m chunks \u001b[39m=\u001b[39m \u001b[39mself\u001b[39;49m\u001b[39m.\u001b[39;49miterencode(o, _one_shot\u001b[39m=\u001b[39;49m\u001b[39mTrue\u001b[39;49;00m)\n",
      "\u001b[1;32m    200\u001b[0m \u001b[39mif\u001b[39;00m \u001b[39mnot\u001b[39;00m \u001b[39misinstance\u001b[39m(chunks, (\u001b[39mlist\u001b[39m, \u001b[39mtuple\u001b[39m)):\n",
      "\u001b[1;32m    201\u001b[0m     chunks \u001b[39m=\u001b[39m \u001b[39mlist\u001b[39m(chunks)\n",
      "\n",
      "File \u001b[0;32m~/.conda/envs/dex/lib/python3.10/json/encoder.py:257\u001b[0m, in \u001b[0;36mJSONEncoder.iterencode\u001b[0;34m(self, o, _one_shot)\u001b[0m\n",
      "\u001b[1;32m    252\u001b[0m \u001b[39melse\u001b[39;00m:\n",
      "\u001b[1;32m    253\u001b[0m     _iterencode \u001b[39m=\u001b[39m _make_iterencode(\n",
      "\u001b[1;32m    254\u001b[0m         markers, \u001b[39mself\u001b[39m\u001b[39m.\u001b[39mdefault, _encoder, \u001b[39mself\u001b[39m\u001b[39m.\u001b[39mindent, floatstr,\n",
      "\u001b[1;32m    255\u001b[0m         \u001b[39mself\u001b[39m\u001b[39m.\u001b[39mkey_separator, \u001b[39mself\u001b[39m\u001b[39m.\u001b[39mitem_separator, \u001b[39mself\u001b[39m\u001b[39m.\u001b[39msort_keys,\n",
      "\u001b[1;32m    256\u001b[0m         \u001b[39mself\u001b[39m\u001b[39m.\u001b[39mskipkeys, _one_shot)\n",
      "\u001b[0;32m--> 257\u001b[0m \u001b[39mreturn\u001b[39;00m _iterencode(o, \u001b[39m0\u001b[39;49m)\n",
      "\n",
      "File \u001b[0;32m~/.conda/envs/dex/lib/python3.10/site-packages/wandb/util.py:887\u001b[0m, in \u001b[0;36mWandBHistoryJSONEncoder.default\u001b[0;34m(self, obj)\u001b[0m\n",
      "\u001b[1;32m    885\u001b[0m \u001b[39mif\u001b[39;00m converted:\n",
      "\u001b[1;32m    886\u001b[0m     \u001b[39mreturn\u001b[39;00m obj\n",
      "\u001b[0;32m--> 887\u001b[0m \u001b[39mreturn\u001b[39;00m json\u001b[39m.\u001b[39;49mJSONEncoder\u001b[39m.\u001b[39;49mdefault(\u001b[39mself\u001b[39;49m, obj)\n",
      "\n",
      "File \u001b[0;32m~/.conda/envs/dex/lib/python3.10/json/encoder.py:179\u001b[0m, in \u001b[0;36mJSONEncoder.default\u001b[0;34m(self, o)\u001b[0m\n",
      "\u001b[1;32m    160\u001b[0m \u001b[39mdef\u001b[39;00m \u001b[39mdefault\u001b[39m(\u001b[39mself\u001b[39m, o):\n",
      "\u001b[1;32m    161\u001b[0m     \u001b[39m\"\"\"Implement this method in a subclass such that it returns\u001b[39;00m\n",
      "\u001b[1;32m    162\u001b[0m \u001b[39m    a serializable object for ``o``, or calls the base implementation\u001b[39;00m\n",
      "\u001b[1;32m    163\u001b[0m \u001b[39m    (to raise a ``TypeError``).\u001b[39;00m\n",
      "\u001b[0;32m   (...)\u001b[0m\n",
      "\u001b[1;32m    177\u001b[0m \n",
      "\u001b[1;32m    178\u001b[0m \u001b[39m    \"\"\"\u001b[39;00m\n",
      "\u001b[0;32m--> 179\u001b[0m     \u001b[39mraise\u001b[39;00m \u001b[39mTypeError\u001b[39;00m(\u001b[39mf\u001b[39m\u001b[39m'\u001b[39m\u001b[39mObject of type \u001b[39m\u001b[39m{\u001b[39;00mo\u001b[39m.\u001b[39m\u001b[39m__class__\u001b[39m\u001b[39m.\u001b[39m\u001b[39m__name__\u001b[39m\u001b[39m}\u001b[39;00m\u001b[39m \u001b[39m\u001b[39m'\u001b[39m\n",
      "\u001b[1;32m    180\u001b[0m                     \u001b[39mf\u001b[39m\u001b[39m'\u001b[39m\u001b[39mis not JSON serializable\u001b[39m\u001b[39m'\u001b[39m)\n",
      "\n",
      "\u001b[0;31mTypeError\u001b[0m: Object of type FrozenDict is not JSON serializable"
     ]
    }
   ],
   "source": [
    "\n",
    "args = {\n",
    "    'n_e': 6,\n",
    "    'n_u': 3,\n",
    "    'n_b': 256,\n",
    "}\n",
    "\n",
    "c = Pyfig(wandb_mode='online')\n",
    "print('Pyfig ✅')\n",
    "\n",
    "part_sample = partial(sample, acc_target=c.data.acc_target)\n",
    "\n",
    "@partial(pmap, in_axes=(0, 0, 0, 0))\n",
    "def train_step(rng, state, x, deltar):\n",
    "    x, v_sam = part_sample(rng, state, x, deltar)\n",
    "\n",
    "    pe = partial(PotentialEnergy(a=c.data.a, a_z=c.data.a_z).apply, {})(x)\n",
    "    ke = compute_ke_b(state, x)\n",
    "    e = pe + ke\n",
    "\n",
    "    def loss(params):\n",
    "        return (e * state.apply_fn(params, x)).sum()\n",
    "\n",
    "    v = dict(\n",
    "        grad = grad(loss)(state.params),\n",
    "        pe = pe,\n",
    "        ke=ke,\n",
    "        e=e,\n",
    "        deltar=v_sam['deltar'],\n",
    "        rng=rng,\n",
    "        x=x,\n",
    "        acc=v_sam['acc']\n",
    "    )\n",
    "    return state, v\n",
    "print('Train Step ✅')\n",
    "\n",
    "\n",
    "rng = c.rng_init\n",
    "x = c.data.init_walker(rng, n_b=4)\n",
    "print('Walkers ✅')\n",
    "\n",
    "@partial(jax.pmap, axis_name='b', in_axes=(0, 0))\n",
    "def create_train_state(rng, x):\n",
    "    model = c.partial(FermiNet)  \n",
    "    params = model.init(rng, x) \n",
    "    tx=c.opt.tx\n",
    "    return TrainState.create(\n",
    "        apply_fn=model.apply, \n",
    "        params=params, \n",
    "        tx=tx\n",
    "    )\n",
    "\n",
    "state = create_train_state(rng, x)\n",
    "print('Model ✅')\n",
    "\n",
    "wandb.define_metric(\"*\", step_metric=\"tr/step\")\n",
    "deltar = jnp.array([[0.02]]).repeat(c.n_device)\n",
    "print('Training Variables ✅')\n",
    "\n",
    "for step in range(1, c.n_step+1):\n",
    "\tstate, data = train_step(rng, state, x, deltar)\n",
    "\tstate.apply_gradients(grads=data['grad'])\t\n",
    "\tprint(step)\n",
    "\t\n",
    "\tif step % c.log_metric_step:\n",
    "\t\tmetrix = compute_metrix(data)\n",
    "        try:\n",
    "            m = {f'tr/{k}': v for k,v in metrix.items()}\n",
    "            wandb.log({'tr/step': step, **m})\t\n",
    "        except:\n",
    "            print(m)\n",
    "            \n",
    "\tif step % c.log_state_step:\n",
    "\t\tprint('not implemented')\n",
    "\n",
    "print('Go seek: ', c.wandb.run_path)"
   ]
  },
  {
   "cell_type": "code",
   "execution_count": null,
   "metadata": {},
   "outputs": [],
   "source": [
    "# 💓 \n",
    "\n",
    "class tr_data:\n",
    "    x:jnp.ndarray=x\n",
    "    rng:jnp.ndarray=rng"
   ]
  }
 ],
 "metadata": {
  "kernelspec": {
   "display_name": "Python 3.10.8 ('dex')",
   "language": "python",
   "name": "python3"
  },
  "language_info": {
   "codemirror_mode": {
    "name": "ipython",
    "version": 3
   },
   "file_extension": ".py",
   "mimetype": "text/x-python",
   "name": "python",
   "nbconvert_exporter": "python",
   "pygments_lexer": "ipython3",
   "version": "3.10.8"
  },
  "orig_nbformat": 4,
  "vscode": {
   "interpreter": {
    "hash": "9b4edb4a58a0461d84e636e9142615dc364f099c3851533546c18fbe9e367308"
   }
  }
 },
 "nbformat": 4,
 "nbformat_minor": 2
}
