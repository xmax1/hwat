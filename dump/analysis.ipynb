{
 "cells": [
  {
   "cell_type": "code",
   "execution_count": 1,
   "metadata": {},
   "outputs": [],
   "source": [
    "import wandb\n",
    "\n",
    "api = wandb.Api()\n",
    "run = api.run(\"xmax1/hwat/1s3rregs\")\n",
    "c = run.config\n",
    "h = run.history()\n",
    "s = run.summary"
   ]
  },
  {
   "cell_type": "code",
   "execution_count": 2,
   "metadata": {},
   "outputs": [
    {
     "data": {
      "text/plain": [
       "{'tr/param/params-Dense_5-kernel-params': -0.009268507361412048, 'tr/grad/std-params-Dense_2-kernel-grads': 0.0045753363519907, 'tr/param/params-Dense_0-kernel-params': -0.00012354180216789246, 'tr/grad/std-params-Dense_3-bias-grads': 8.924741996452212e-05, 'tr/param/params-Dense_3-kernel-params': 0.009034253656864166, 'tr/param/params-Dense_6-kernel-params': 0.04232342541217804, 'tr/param/std-params-Dense_2-bias-params': 0.070393867790699, 'tr/param/params-Dense_0-bias-params': 0.010098244994878767, 'tr/std/pe_\\\\sigma$': 19.2684326171875, 'tr/grad/params-Dense_1-kernel-grads': 0.00044070486910641193, 'tr/std/e_\\\\sigma$': 0.6771349906921387, 'tr/grad/std-params-Dense_5-kernel-grads': 0.002928357571363449, '_timestamp': 1670592324.29264, 'tr/grad/params-Dense_2-bias-grads': 0.00016459074686281383, 'tr/grad/params-Dense_5-bias-grads': 0.0002315714955329895, 'tr/param/std-params-Dense_1-kernel-params': 0.4026643633842468, 'tr/param/std-params-Dense_5-kernel-params': 0.24866703152656555, 'tr/grad/params-Dense_0-bias-grads': 0.0007790602976456285, 'tr/grad/std-params-Dense_6-bias-grads': 3.75211238861084e-05, 'tr/param/std-params-Dense_6-bias-params': 0.01752561517059803, 'tr/std/r_\\\\sigma$': 1.177708625793457, 'tr/grad/std-params-Dense_1-kernel-grads': 0.006378211081027985, 'tr/param/std-params-Dense_1-bias-params': 0.09463754296302795, 'tr/param/std-params-Dense_3-bias-params': 0.049507081508636475, 'tr/grad/params-Dense_2-kernel-grads': 1.329226688540075e-05, 'tr/param/std-params-Dense_5-bias-params': 0.037207137793302536, 'tr/grad/std-params-Dense_5-bias-grads': 0.00012960284948349, 'tr/grad/params-Dense_1-bias-grads': 0.00030581082683056593, 'tr/grad/params-Dense_0-kernel-grads': -0.00033881611307151616, 'tr/grad/params-Dense_5-kernel-grads': 3.6359415389597416e-06, 'tr/param/params-Dense_3-bias-params': 0.007488022558391094, 'tr/grad/std-params-Dense_3-kernel-grads': 0.0013180958339944482, 'tr/param/std-params-Dense_2-kernel-params': 0.10208242386579514, 'tr/ke_\\\\mu$': 14.718276977539062, 'tr/e_\\\\mu$': -14.714831352233888, 'tr/grad/params-Dense_4-bias-grads': 3.2870157156139612e-06, 'tr/grad/params-Dense_3-kernel-grads': -2.1301071683410555e-05, 'tr/grad/params-Dense_4-kernel-grads': 5.2594808948924765e-05, 'tr/param/params-Dense_4-bias-params': 0.009935474023222923, 'tr/param/params-Dense_6-bias-params': 0.03513254225254059, 'tr/param/std-params-Dense_4-kernel-params': 0.18735595047473907, '_wandb': {'runtime': 291}, 'tr/param/std-params-Dense_6-kernel-params': 0.23401875793933868, 'tr/grad/std-params-Dense_0-bias-grads': 0.0058037471026182175, 'tr/grad/std-params-Dense_4-bias-grads': 4.20754004153423e-05, 'tr/param/params-Dense_4-kernel-params': 0.014119533821940422, 'tr/grad/std-params-Dense_6-kernel-grads': 0.009232747368514538, '_step': 199, 'tr/std/ke_\\\\sigma$': 19.128145217895508, 'tr/grad/std-params-Dense_0-kernel-grads': 0.012854269705712795, 'tr/grad/std-params-Dense_4-kernel-grads': 0.004023983143270016, 'tr/param/std-params-Dense_4-bias-params': 0.018142616376280785, 'tr/r_\\\\mu$': -0.0012320069363340735, 'tr/grad/std-params-Dense_2-bias-grads': 0.004471563268452883, 'tr/step': 10000, 'tr/param/params-Dense_1-bias-params': -0.010832665488123894, 'tr/param/params-Dense_2-kernel-params': -0.0009563174098730088, 'tr/param/std-params-Dense_3-kernel-params': 0.18516188859939575, 'tr/pe_\\\\mu$': -29.433109283447266, 'tr/param/params-Dense_5-bias-params': -0.027400005608797073, 'tr/param/params-Dense_1-kernel-params': -0.019022293388843536, 'tr/param/std-params-Dense_0-kernel-params': 0.2153591364622116, '_runtime': 292.2040979862213, 'tr/grad/params-Dense_6-bias-grads': 9.813904762268066e-05, 'tr/grad/params-Dense_6-kernel-grads': -0.0003775699296966195, 'tr/param/params-Dense_2-bias-params': 0.013789426535367966, 'tr/grad/std-params-Dense_1-bias-grads': 0.003788393456488848, 'tr/param/std-params-Dense_0-bias-params': 0.2854136526584625, 'tr/grad/params-Dense_3-bias-grads': -5.121280992170796e-06}"
      ]
     },
     "execution_count": 2,
     "metadata": {},
     "output_type": "execute_result"
    }
   ],
   "source": [
    "s"
   ]
  },
  {
   "cell_type": "code",
   "execution_count": null,
   "metadata": {},
   "outputs": [],
   "source": []
  }
 ],
 "metadata": {
  "kernelspec": {
   "display_name": "td",
   "language": "python",
   "name": "python3"
  },
  "language_info": {
   "codemirror_mode": {
    "name": "ipython",
    "version": 3
   },
   "file_extension": ".py",
   "mimetype": "text/x-python",
   "name": "python",
   "nbconvert_exporter": "python",
   "pygments_lexer": "ipython3",
   "version": "3.10.3"
  },
  "orig_nbformat": 4,
  "vscode": {
   "interpreter": {
    "hash": "a176005efc6340d6f651f92e427305c0c77418f591408071800ce94934a5505a"
   }
  }
 },
 "nbformat": 4,
 "nbformat_minor": 2
}
