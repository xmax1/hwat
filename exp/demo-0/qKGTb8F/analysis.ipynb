{
 "cells": [
  {
   "cell_type": "code",
   "execution_count": 2,
   "metadata": {},
   "outputs": [],
   "source": [
    "import pylatexenc.latex2text as Latex\n",
    "from pathlib import Path\n",
    "latex = Latex.LatexNodes2Text()\n",
    "from analysis import plot_setup, plot_format, get_cmap #, fetch\n",
    "from utils import mkdir\n",
    "import wandb"
   ]
  },
  {
   "cell_type": "code",
   "execution_count": 3,
   "metadata": {},
   "outputs": [],
   "source": [
    "api = wandb.Api()\n",
    "run = api.run(\"xmax1/hwat/h7omx9lp\")"
   ]
  },
  {
   "cell_type": "code",
   "execution_count": 5,
   "metadata": {},
   "outputs": [
    {
     "name": "stdout",
     "output_type": "stream",
     "text": [
      "_timestamp 1669753992.74699 \n",
      "tr/params/Dense_1-kernel-grad 0.70537 \n",
      "tr/params/Dense_3-kernel-grad 0.53089 \n",
      "tr/params/Dense_6-kernel-grad 1.56264 \n",
      "tr/step 1000.00000 \n"
     ]
    },
    {
     "data": {
      "text/plain": [
       "[None, None, None, None, None]"
      ]
     },
     "execution_count": 5,
     "metadata": {},
     "output_type": "execute_result"
    }
   ],
   "source": [
    "c = run.config\n",
    "h = run.history()\n",
    "s = run.summary\n",
    "ignore = ['Dense_', 'rng_']\n",
    "for i,(k,v) in enumerate(s.items()):\n",
    "    print(f'{latex.latex_to_text(k)} {v:.5f} ')"
   ]
  },
  {
   "cell_type": "code",
   "execution_count": null,
   "metadata": {},
   "outputs": [],
   "source": [
    "import panel as pn\n",
    "pn.extension()\n",
    "pn.extension('vega', 'katex')\n",
    "\n",
    "def display_marquee(text):\n",
    "    display(pn.panel('<marquee>{text}</marquee>'.format(text=text)))\n",
    "\n",
    "display_marquee('This Panel was displayed from within a function')\n",
    "\n",
    "pane.app('localhost:8888')"
   ]
  },
  {
   "cell_type": "code",
   "execution_count": null,
   "metadata": {},
   "outputs": [],
   "source": [
    "git add docs/*\n",
    "git commit\n",
    "git push\n"
   ]
  },
  {
   "cell_type": "code",
   "execution_count": 1,
   "metadata": {},
   "outputs": [
    {
     "ename": "NameError",
     "evalue": "name 'plot_setup' is not defined",
     "output_type": "error",
     "traceback": [
      "\u001b[1;31m---------------------------------------------------------------------------\u001b[0m",
      "\u001b[1;31mNameError\u001b[0m                                 Traceback (most recent call last)",
      "\u001b[1;32mc:\\Users\\max\\OneDrive\\sisy\\hwapnet\\src\\analysis\\analysis_PRX.ipynb Cell 6\u001b[0m in \u001b[0;36m<cell line: 1>\u001b[1;34m()\u001b[0m\n\u001b[1;32m----> <a href='vscode-notebook-cell:/c%3A/Users/max/OneDrive/sisy/hwapnet/src/analysis/analysis_PRX.ipynb#W6sZmlsZQ%3D%3D?line=0'>1</a>\u001b[0m fig, ax \u001b[39m=\u001b[39m plot_setup(usetex\u001b[39m=\u001b[39m\u001b[39mTrue\u001b[39;00m, figsize\u001b[39m=\u001b[39m(\u001b[39m8\u001b[39m, \u001b[39m5\u001b[39m))\n\u001b[0;32m      <a href='vscode-notebook-cell:/c%3A/Users/max/OneDrive/sisy/hwapnet/src/analysis/analysis_PRX.ipynb#W6sZmlsZQ%3D%3D?line=1'>2</a>\u001b[0m parg \u001b[39m=\u001b[39m PlotArgs()\n\u001b[0;32m      <a href='vscode-notebook-cell:/c%3A/Users/max/OneDrive/sisy/hwapnet/src/analysis/analysis_PRX.ipynb#W6sZmlsZQ%3D%3D?line=3'>4</a>\u001b[0m root \u001b[39m=\u001b[39m Path(\u001b[39m'\u001b[39m\u001b[39m'\u001b[39m)\n",
      "\u001b[1;31mNameError\u001b[0m: name 'plot_setup' is not defined"
     ]
    }
   ],
   "source": [
    "fetch(\n",
    "    server_dir  = '/home/energy/amawi/projects/nn_ansatz/src/experiments/PRX_Responses/runs', \n",
    "    # avoid       = ['walkers', 'events', 'models'],\n",
    "    match = ['res_cusp', 'exp_stats_'],\n",
    "    target_dir  = r'.\\PRX_responses\\runs',\n",
    "    # pull = False,\n",
    "    print_paths=True,\n",
    ")\n",
    "\n",
    "\n",
    "labels = {\n",
    "    'x': 'x', \n",
    "    'y': 'y'\n",
    "}\n",
    "\n",
    "plots = [\n",
    "    PlotObj(x='r', y='y', labels=labels),\n",
    "    PlotObj(x=np.array(1)),\n",
    "]\n",
    "\n",
    "pairs = {\n",
    "    'x': 'math'\n",
    "}\n",
    "\n",
    "xticklabel_pairs = {\n",
    "    'tanh': r'$\\tanh$',\n",
    "}\n",
    "\n",
    "root = Path('where is the data')\n",
    "plot_dir = join_and_mkdir(root, 'results/plots')\n",
    "plot_name = r'af_comparison.png'\n",
    "\n",
    "figshape, figsize = (1, 1), (6, 5)\n",
    "fig, axs = plot_setup(usetex=True, figshape=figshape, figsize=figsize)\n",
    "if isinstance(axs, np.ndarray): axs = iter(axs.flatten())\n",
    "\n",
    "colors = get_cmap('plasma')\n",
    "\n",
    "### DATA EXTRACTION ###\n",
    "data = []\n",
    "for path in root.iterdir():\n",
    "    if path.is_file() and ('res' in path.name):\n",
    "        d = load_pk(path)\n",
    "        d = {pairs[k]:d[k] for k in pairs}\n",
    "        data.append(d)\n",
    "\n",
    "# pandas\n",
    "data = pd.DataFrame.from_dict(data)\n",
    "data = data.groupby(by=pairs['bf_af'])\n",
    "\n",
    "# groups\n",
    "j = 1\n",
    "for i, (name, grp) in enumerate(data, 1):\n",
    "    if name in xticklabel_pairs.keys():\n",
    "        x = i\n",
    "        y = grp['$E$'].mean()\n",
    "        yerr = grp['$E$'].std()\n",
    "        line = ax.errorbar(\n",
    "            [j], \n",
    "            [y], \n",
    "            yerr=[yerr],\n",
    "            capsize=5,\n",
    "            marker='x'          \n",
    "        )\n",
    "        j += 1\n",
    "\n",
    "plot_format(\n",
    "    ax,\n",
    "    xlabel=r'$\\sigma(\\cdot)$',\n",
    "    ylabel=pairs['e_mean_i50000'],\n",
    "    xlim=(0, 6),\n",
    "    xticks=np.arange(1, len(xticklabel_pairs)+1),\n",
    "    xticklabels=[v for v in xticklabel_pairs.values()],\n",
    "    aspect=0.75,\n",
    ")\n",
    "\n",
    "ax.ticklabel_format(axis='y', style='sci', scilimits=(-2, 3), useMathText=True, useOffset=False)\n",
    "ax.tick_params(\n",
    "        axis='both', \n",
    "        which='minor',\n",
    "        bottom=False,\n",
    "    )\n",
    "\n",
    "plt.title('Activation function comparison', fontsize=12, pad=5)\n",
    "fig.tight_layout()\n",
    "\n",
    "plt.savefig(\n",
    "    join_and_mkdir(plot_dir, plot_name), \n",
    "    dpi = parg.dpi, \n",
    "    pad_inches = parg.pad_inches, \n",
    "    bbox_inches = parg.bbox_inches\n",
    ")\n",
    "\n",
    "plt.show()"
   ]
  },
  {
   "cell_type": "code",
   "execution_count": 20,
   "metadata": {},
   "outputs": [
    {
     "name": "stdout",
     "output_type": "stream",
     "text": [
      "15\n"
     ]
    },
    {
     "data": {
      "image/png": "[encoded data removed]",
      "text/plain": [
       "<Figure size 500x600 with 1 Axes>"
      ]
     },
     "metadata": {},
     "output_type": "display_data"
    }
   ],
   "source": [
    "root = Path('./PRX_responses/af/results')\n",
    "plot_dir = root / 'results/plots'\n",
    "plot_name = r'af_comparison.png'\n",
    "\n",
    "pairs = {\n",
    "    'e_mean_i50000': r'$E$',\n",
    "    'density_parameter': r'$r_s$',\n",
    "    'seed': 'seed',\n",
    "    'bf_af': r'$\\sigma(\\cdot)$'\n",
    "}\n",
    "\n",
    "xticklabel_pairs = {\n",
    "    'tanh': r'$\\tanh$',\n",
    "    'cos': r'$\\cos$', \n",
    "    'sin': r'$\\sin$', \n",
    "    'silu': r'$\\mathrm{silu}$', \n",
    "    'no_af': r'$\\sigma(z) = z$'\n",
    "}\n",
    "\n",
    "data = []\n",
    "\n",
    "for path in root.iterdir():\n",
    "    if path.is_file():\n",
    "        d = load_pk(path)\n",
    "        if 'e_mean_i50000' in d.keys() and not 'e_mean_i100000' in d.keys():\n",
    "\n",
    "            # print(d.keys())\n",
    "            d = {pairs[k]:d[k] for k in pairs}\n",
    "            data.append(d)\n",
    "\n",
    "print(len(data))\n",
    "\n",
    "data = pd.DataFrame.from_dict(data)\n",
    "\n",
    "data = data.groupby(by=pairs['bf_af'])\n",
    "\n",
    "fig, ax = plot_setup(usetex=True, figshape=(1, 1), figsize=(6, 5))\n",
    "# axs = iter(axs.flatten())\n",
    "parg = PlotArgs()\n",
    "\n",
    "j = 1\n",
    "for i, (name, grp) in enumerate(data, 1):\n",
    "    if name in xticklabel_pairs.keys():\n",
    "        x = i\n",
    "        y = grp['$E$'].mean()\n",
    "        yerr = grp['$E$'].std()\n",
    "        line = ax.errorbar(\n",
    "            [j], \n",
    "            [y], \n",
    "            yerr=[yerr],\n",
    "            capsize=5,\n",
    "            marker='x'          \n",
    "        )\n",
    "        j += 1\n",
    "\n",
    "plot_format(\n",
    "    ax,\n",
    "    xlabel=r'$\\sigma(\\cdot)$',\n",
    "    ylabel=pairs['e_mean_i50000'],\n",
    "    xlim=(0, 6),\n",
    "    xticks=np.arange(1, len(xticklabel_pairs)+1),\n",
    "    xticklabels=[v for v in xticklabel_pairs.values()],\n",
    "    aspect=0.75,\n",
    ")\n",
    "\n",
    "ax.ticklabel_format(axis='y', style='sci', scilimits=(-2, 3), useMathText=True, useOffset=False)\n",
    "ax.tick_params(\n",
    "        axis='both', \n",
    "        which='minor',\n",
    "        bottom=False,\n",
    "    )\n",
    "\n",
    "plt.title('Activation function comparison', fontsize=12, pad=5)\n",
    "fig.tight_layout()\n",
    "\n",
    "plt.savefig(\n",
    "    plot_dir / plot_name), \n",
    "    dpi = parg.dpi, \n",
    "    pad_inches = parg.pad_inches, \n",
    "    bbox_inches = parg.bbox_inches\n",
    ")\n",
    "\n",
    "plt.show()"
   ]
  },
  {
   "cell_type": "code",
   "execution_count": null,
   "metadata": {},
   "outputs": [],
   "source": [
    "# https://docs.wandb.ai/guides/track/public-api-guide#public-api-examples\n",
    "\n",
    "# import wandb\n",
    "# # %env WANDB_SILENT=True # before login \n",
    "# wandb.login()\n",
    "# %wandb f'xmax1/hwat/zdu9sp6h' # -h 2048\n",
    "# wandb.init()\n",
    "# wandb.run"
   ]
  }
 ],
 "metadata": {
  "kernelspec": {
   "display_name": "Python 3.10.8 ('dex')",
   "language": "python",
   "name": "python3"
  },
  "language_info": {
   "codemirror_mode": {
    "name": "ipython",
    "version": 3
   },
   "file_extension": ".py",
   "mimetype": "text/x-python",
   "name": "python",
   "nbconvert_exporter": "python",
   "pygments_lexer": "ipython3",
   "version": "3.10.8"
  },
  "orig_nbformat": 4,
  "vscode": {
   "interpreter": {
    "hash": "9b4edb4a58a0461d84e636e9142615dc364f099c3851533546c18fbe9e367308"
   }
  }
 },
 "nbformat": 4,
 "nbformat_minor": 2
}
