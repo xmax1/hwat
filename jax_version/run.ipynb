{
 "cells": [
  {
   "cell_type": "code",
   "execution_count": 1,
   "metadata": {},
   "outputs": [],
   "source": [
    "%load_ext autoreload \n",
    "%autoreload 2"
   ]
  },
  {
   "cell_type": "code",
   "execution_count": 18,
   "metadata": {},
   "outputs": [
    {
     "ename": "FileNotFoundError",
     "evalue": "[Errno 2] No such file or directory: 'squeue'",
     "output_type": "error",
     "traceback": [
      "\u001b[0;31m---------------------------------------------------------------------------\u001b[0m",
      "\u001b[0;31mFileNotFoundError\u001b[0m                         Traceback (most recent call last)",
      "Cell \u001b[0;32mIn [18], line 2\u001b[0m\n\u001b[1;32m      1\u001b[0m \u001b[39mfrom\u001b[39;00m \u001b[39mutils\u001b[39;00m \u001b[39mimport\u001b[39;00m run_cmds\n\u001b[0;32m----> 2\u001b[0m n_job_running \u001b[39m=\u001b[39m run_cmds([\u001b[39mf\u001b[39;49m\u001b[39m'\u001b[39;49m\u001b[39msqueue -u amawi -t pending,running -h -r\u001b[39;49m\u001b[39m'\u001b[39;49m], \u001b[39m'\u001b[39;49m\u001b[39m.\u001b[39;49m\u001b[39m'\u001b[39;49m)[\u001b[39m0\u001b[39m]\u001b[39m.\u001b[39mstdout\u001b[39m.\u001b[39mdecode(\u001b[39m'\u001b[39m\u001b[39mutf-8\u001b[39m\u001b[39m'\u001b[39m)\n",
      "File \u001b[0;32m~/projects/hwat/jax_version/utils.py:162\u001b[0m, in \u001b[0;36mrun_cmds\u001b[0;34m(cmd, cwd)\u001b[0m\n\u001b[1;32m    160\u001b[0m \u001b[39mfor\u001b[39;00m cmd_1 \u001b[39min\u001b[39;00m (cmd \u001b[39mif\u001b[39;00m \u001b[39misinstance\u001b[39m(cmd, \u001b[39mlist\u001b[39m) \u001b[39melse\u001b[39;00m [cmd]): \n\u001b[1;32m    161\u001b[0m     cmd_1 \u001b[39m=\u001b[39m [c\u001b[39m.\u001b[39mstrip() \u001b[39mfor\u001b[39;00m c \u001b[39min\u001b[39;00m cmd_1\u001b[39m.\u001b[39msplit(\u001b[39m'\u001b[39m\u001b[39m \u001b[39m\u001b[39m'\u001b[39m)]\n\u001b[0;32m--> 162\u001b[0m     out \u001b[39m+\u001b[39m\u001b[39m=\u001b[39m [subprocess\u001b[39m.\u001b[39;49mrun(cmd_1, cwd\u001b[39m=\u001b[39;49m\u001b[39mstr\u001b[39;49m(cwd), capture_output\u001b[39m=\u001b[39;49m\u001b[39mTrue\u001b[39;49;00m)]\n\u001b[1;32m    163\u001b[0m \u001b[39mreturn\u001b[39;00m out[\u001b[39m0\u001b[39m] \u001b[39mif\u001b[39;00m \u001b[39mlen\u001b[39m(out) \u001b[39m==\u001b[39m \u001b[39m0\u001b[39m \u001b[39melse\u001b[39;00m out\n",
      "File \u001b[0;32m~/.conda/envs/dex/lib/python3.10/subprocess.py:503\u001b[0m, in \u001b[0;36mrun\u001b[0;34m(input, capture_output, timeout, check, *popenargs, **kwargs)\u001b[0m\n\u001b[1;32m    500\u001b[0m     kwargs[\u001b[39m'\u001b[39m\u001b[39mstdout\u001b[39m\u001b[39m'\u001b[39m] \u001b[39m=\u001b[39m PIPE\n\u001b[1;32m    501\u001b[0m     kwargs[\u001b[39m'\u001b[39m\u001b[39mstderr\u001b[39m\u001b[39m'\u001b[39m] \u001b[39m=\u001b[39m PIPE\n\u001b[0;32m--> 503\u001b[0m \u001b[39mwith\u001b[39;00m Popen(\u001b[39m*\u001b[39;49mpopenargs, \u001b[39m*\u001b[39;49m\u001b[39m*\u001b[39;49mkwargs) \u001b[39mas\u001b[39;00m process:\n\u001b[1;32m    504\u001b[0m     \u001b[39mtry\u001b[39;00m:\n\u001b[1;32m    505\u001b[0m         stdout, stderr \u001b[39m=\u001b[39m process\u001b[39m.\u001b[39mcommunicate(\u001b[39minput\u001b[39m, timeout\u001b[39m=\u001b[39mtimeout)\n",
      "File \u001b[0;32m~/.conda/envs/dex/lib/python3.10/subprocess.py:971\u001b[0m, in \u001b[0;36mPopen.__init__\u001b[0;34m(self, args, bufsize, executable, stdin, stdout, stderr, preexec_fn, close_fds, shell, cwd, env, universal_newlines, startupinfo, creationflags, restore_signals, start_new_session, pass_fds, user, group, extra_groups, encoding, errors, text, umask, pipesize)\u001b[0m\n\u001b[1;32m    967\u001b[0m         \u001b[39mif\u001b[39;00m \u001b[39mself\u001b[39m\u001b[39m.\u001b[39mtext_mode:\n\u001b[1;32m    968\u001b[0m             \u001b[39mself\u001b[39m\u001b[39m.\u001b[39mstderr \u001b[39m=\u001b[39m io\u001b[39m.\u001b[39mTextIOWrapper(\u001b[39mself\u001b[39m\u001b[39m.\u001b[39mstderr,\n\u001b[1;32m    969\u001b[0m                     encoding\u001b[39m=\u001b[39mencoding, errors\u001b[39m=\u001b[39merrors)\n\u001b[0;32m--> 971\u001b[0m     \u001b[39mself\u001b[39;49m\u001b[39m.\u001b[39;49m_execute_child(args, executable, preexec_fn, close_fds,\n\u001b[1;32m    972\u001b[0m                         pass_fds, cwd, env,\n\u001b[1;32m    973\u001b[0m                         startupinfo, creationflags, shell,\n\u001b[1;32m    974\u001b[0m                         p2cread, p2cwrite,\n\u001b[1;32m    975\u001b[0m                         c2pread, c2pwrite,\n\u001b[1;32m    976\u001b[0m                         errread, errwrite,\n\u001b[1;32m    977\u001b[0m                         restore_signals,\n\u001b[1;32m    978\u001b[0m                         gid, gids, uid, umask,\n\u001b[1;32m    979\u001b[0m                         start_new_session)\n\u001b[1;32m    980\u001b[0m \u001b[39mexcept\u001b[39;00m:\n\u001b[1;32m    981\u001b[0m     \u001b[39m# Cleanup if the child failed starting.\u001b[39;00m\n\u001b[1;32m    982\u001b[0m     \u001b[39mfor\u001b[39;00m f \u001b[39min\u001b[39;00m \u001b[39mfilter\u001b[39m(\u001b[39mNone\u001b[39;00m, (\u001b[39mself\u001b[39m\u001b[39m.\u001b[39mstdin, \u001b[39mself\u001b[39m\u001b[39m.\u001b[39mstdout, \u001b[39mself\u001b[39m\u001b[39m.\u001b[39mstderr)):\n",
      "File \u001b[0;32m~/.conda/envs/dex/lib/python3.10/subprocess.py:1847\u001b[0m, in \u001b[0;36mPopen._execute_child\u001b[0;34m(self, args, executable, preexec_fn, close_fds, pass_fds, cwd, env, startupinfo, creationflags, shell, p2cread, p2cwrite, c2pread, c2pwrite, errread, errwrite, restore_signals, gid, gids, uid, umask, start_new_session)\u001b[0m\n\u001b[1;32m   1845\u001b[0m     \u001b[39mif\u001b[39;00m errno_num \u001b[39m!=\u001b[39m \u001b[39m0\u001b[39m:\n\u001b[1;32m   1846\u001b[0m         err_msg \u001b[39m=\u001b[39m os\u001b[39m.\u001b[39mstrerror(errno_num)\n\u001b[0;32m-> 1847\u001b[0m     \u001b[39mraise\u001b[39;00m child_exception_type(errno_num, err_msg, err_filename)\n\u001b[1;32m   1848\u001b[0m \u001b[39mraise\u001b[39;00m child_exception_type(err_msg)\n",
      "\u001b[0;31mFileNotFoundError\u001b[0m: [Errno 2] No such file or directory: 'squeue'"
     ]
    }
   ],
   "source": [
    "from utils import run_cmds\n",
    "n_job_running = run_cmds([f'squeue -u amawi -t pending,running -h -r'], '.')[0].stdout.decode('utf-8')\n"
   ]
  },
  {
   "cell_type": "code",
   "execution_count": 16,
   "metadata": {},
   "outputs": [
    {
     "name": "stdout",
     "output_type": "stream",
     "text": [
      "['git', 'log', '--pretty=format:%h', '-n', '1']\n",
      "~/projects/hwat\n",
      "dict_keys(['project_root', 'project', 'run_dir', 'run_name', 'exp_name', 'exp_id', 'sweep_id', 'seed', 'dtype', 'n_step', 'log_metric_step', 'log_state_step', 'charge', 'spin', 'a', 'a_z', 'n_e', 'n_u', 'n_d', 'n_b', 'n_corr', 'n_equil', 'acc_target', 'with_sign', 'n_sv', 'n_pv', 'n_fbv', 'n_fb', 'n_det', 'terms_s_emb', 'terms_p_emb', 'job_type', 'entity', 'wandb_run_path', 'mail_type', 'partition', 'nodes', 'ntasks', 'cpus_per_task', 'time', 'gres', 'output', 'error', 'job_name', 'TMP', 'project_path', 'server_project_path', 'n_device', 'exp_path', 'user', 'server', 'git_remote', 'git_branch', 'env', 'commit_id'])\n",
      "Running __init__\n",
      "['git', 'log', '--pretty=format:%h', '-n', '1']\n",
      "~/projects/hwat\n",
      "['git', 'log', '--pretty=format:%h', '-n', '1']\n",
      "~/projects/hwat\n",
      "['git', 'log', '--pretty=format:%h', '-n', '1']\n",
      "~/projects/hwat\n"
     ]
    },
    {
     "data": {
      "text/plain": [
       "\"--project_root ~/projects --project hwat --run_dir projects/hwat/jax_version --run_name run.py --exp_name junk --exp_id e77mZN5 --seed 808017424 --dtype float32 --n_step 10000 --log_metric_step 50 --log_state_step 10 --charge 0 --spin 0 --a [[0.0,0.0,0.0]] --a_z [4.0] --n_e 4 --n_u 2 --n_d 2 --n_b 512 --n_corr 20 --n_equil 10000 --acc_target 0.5 --with_sign False --n_sv 32 --n_pv 32 --n_fbv 160 --n_fb 2 --n_det 1 --terms_s_emb ['ra','ra_len'] --terms_p_emb ['rr','rr_len'] --job_type training --entity hwat --mail_type FAIL --partition sm3090 --nodes 1 --ntasks 8 --cpus_per_task 1 --time 0-12:00:00 --gres gpu:RTX3090:1 --output dump/tmp/o-%j.out --error dump/tmp/e-%j.err --job_name junk --TMP dump/tmp --user amawi --server svol.fysik.dtu.dk --git_remote origin --git_branch main --env dex\""
      ]
     },
     "execution_count": 16,
     "metadata": {},
     "output_type": "execute_result"
    }
   ],
   "source": [
    "from pyfig import Pyfig\n",
    "import numpy as np\n",
    "\n",
    "arg = dict(\n",
    "\tcharge = 0,\n",
    "\tspin  = 0,\n",
    "\ta = np.array([[0.0, 0.0, 0.0],]),\n",
    "\ta_z  = np.array([4.,]),\n",
    "\tn_b = 512, \n",
    "\tn_sv = 32, \n",
    "\tn_pv = 32, \n",
    "\tn_corr = 20, \n",
    "\tn_step = 10000, \n",
    "\tlog_metric_step = 50, \n",
    "\texp_name = 'junk',\n",
    "\t# sweep = {},\n",
    ")\n",
    "\n",
    "c = Pyfig(wandb_mode='disabled', arg=arg, submit=False, notebook=True)\n",
    "ignore = ['d', 'cmd', 'submit', 'partial', 'sweep', 'save', 'load', 'log', 'merge', 'sbatch']\n",
    "for cls in [c,] + c._sub_cls:\n",
    "    for k,v in cls.__class__.__dict__.items():\n",
    "        if k.startswith('_'):\n",
    "            continue\n",
    "        if k in ignore:\n",
    "            continue\n",
    "        # print(k, v)\n",
    "        if k == 'sbatch':\n",
    "            print(k, v)\n",
    "            \n",
    "c.cmd"
   ]
  },
  {
   "cell_type": "code",
   "execution_count": 4,
   "metadata": {},
   "outputs": [
    {
     "name": "stdout",
     "output_type": "stream",
     "text": [
      "<pyfig.Pyfig object at 0x7f436c6641f0>\n",
      "['git', 'log', '--pretty=format:%h', '-n', '1']\n",
      "~/projects/hwat\n",
      "dict_keys(['project_root', 'project', 'run_dir', 'run_name', 'exp_name', 'exp_id', 'sweep_id', 'seed', 'dtype', 'n_step', 'log_metric_step', 'log_state_step', 'data', 'model', 'wandb_c', 'slurm', 'TMP', 'project_path', 'server_project_path', 'n_device', 'exp_path', 'user', 'server', 'git_remote', 'git_branch', 'env', 'commit_id'])\n",
      "Running __init__\n",
      "<pyfig.Pyfig object at 0x7f436c6641f0>\n",
      "['git', 'log', '--pretty=format:%h', '-n', '1']\n",
      "~/projects/hwat\n",
      "<pyfig.Pyfig object at 0x7f436c6641f0>\n",
      "['git', 'log', '--pretty=format:%h', '-n', '1']\n",
      "~/projects/hwat\n",
      "🤖 1 GPUs available\n"
     ]
    },
    {
     "ename": "AttributeError",
     "evalue": "'Pyfig' object has no attribute '_run_terminal'",
     "output_type": "error",
     "traceback": [
      "\u001b[0;31m---------------------------------------------------------------------------\u001b[0m",
      "\u001b[0;31mAttributeError\u001b[0m                            Traceback (most recent call last)",
      "Cell \u001b[0;32mIn [4], line 40\u001b[0m\n\u001b[1;32m     37\u001b[0m \u001b[39mprint\u001b[39m(\u001b[39mf\u001b[39m\u001b[39m'\u001b[39m\u001b[39m🤖 \u001b[39m\u001b[39m{\u001b[39;00mn_device\u001b[39m}\u001b[39;00m\u001b[39m GPUs available\u001b[39m\u001b[39m'\u001b[39m)\n\u001b[1;32m     39\u001b[0m \u001b[39mfrom\u001b[39;00m \u001b[39mutils\u001b[39;00m \u001b[39mimport\u001b[39;00m run_cmds_server\n\u001b[0;32m---> 40\u001b[0m cmd \u001b[39m=\u001b[39m c\u001b[39m.\u001b[39;49m_run_terminal[[\u001b[39m'\u001b[39m\u001b[39mpy\u001b[39m\u001b[39m'\u001b[39m, \u001b[39m'\u001b[39m\u001b[39mipynb\u001b[39m\u001b[39m'\u001b[39m][\u001b[39mTrue\u001b[39;00m]] \u001b[39m+\u001b[39m c\u001b[39m.\u001b[39mcmd\n\u001b[1;32m     41\u001b[0m \u001b[39mprint\u001b[39m(cmd)\n\u001b[1;32m     42\u001b[0m server_out \u001b[39m=\u001b[39m run_cmds_server(c\u001b[39m.\u001b[39mserver, c\u001b[39m.\u001b[39muser, cmd, c\u001b[39m.\u001b[39mserver_project_path)[\u001b[39m0\u001b[39m]\n",
      "\u001b[0;31mAttributeError\u001b[0m: 'Pyfig' object has no attribute '_run_terminal'"
     ]
    }
   ],
   "source": [
    "### Distribution ✨ ❇ Demo 💪 ### \n",
    "import os\n",
    "os.environ['CUDA_VISIBLE_DEVICES'] = '3'\n",
    "\n",
    "### fancy logging variables, philosophically reminding us of the goal ###\n",
    "fancy = dict(\n",
    "\t\tpe\t\t= r'$V(X)',    \t\t\t\t\n",
    "\t\tke\t\t= r'$\\nabla^2',    \t\t\n",
    "\t\te\t\t= r'$E',\t\t\t\t\t\t\n",
    "\t\tlog_psi\t= r'$\\log\\psi', \t\t\t\n",
    "\t\tdeltar\t= r'$\\delta_\\mathrm{r}',\t\n",
    "\t\tx\t\t= r'$r_\\mathrm{e}',\n",
    ")\n",
    "\n",
    "### pyfig ###\n",
    "from pyfig import Pyfig\n",
    "import numpy as np\n",
    "\n",
    "arg = dict(\n",
    "\tcharge = 0,\n",
    "\tspin  = 0,\n",
    "\ta = np.array([[0.0, 0.0, 0.0],]),\n",
    "\ta_z  = np.array([4.,]),\n",
    "\tn_b = 512, \n",
    "\tn_sv = 32, \n",
    "\tn_pv = 32, \n",
    "\tn_corr = 20, \n",
    "\tn_step = 10000, \n",
    "\tlog_metric_step = 50, \n",
    "\texp_name = 'junk',\n",
    "\t# sweep = {},\n",
    ")\n",
    "\n",
    "c = Pyfig(wandb_mode='disabled', arg=arg, submit=False, notebook=True)\n",
    "\n",
    "n_device = c.n_device\n",
    "print(f'🤖 {n_device} GPUs available')\n",
    "\n",
    "from utils import run_cmds_server\n",
    "cmd = c._run_terminal[['py', 'ipynb'][True]] + c.cmd\n",
    "print(cmd)\n",
    "server_out = run_cmds_server(c.server, c.user, cmd, c.server_project_path)[0]\n",
    "print(server_out)\n",
    "\n",
    "\"\"\" live plotting in another notebook \"\"\"\n",
    "\"\"\" copy lines and run in analysis while the exp is live \"\"\"\n",
    "# api = wandb.Api()\n",
    "# run = api.run(\"<run-here>\")\n",
    "# c = run.config\n",
    "# h = run.history()\n",
    "# s = run.summary"
   ]
  },
  {
   "cell_type": "code",
   "execution_count": 16,
   "metadata": {},
   "outputs": [
    {
     "ename": "SyntaxError",
     "evalue": "invalid syntax (<unknown>, line 1)",
     "output_type": "error",
     "traceback": [
      "Traceback \u001b[0;36m(most recent call last)\u001b[0m:\n",
      "\u001b[0m  File \u001b[1;32m~/.conda/envs/dex/lib/python3.10/site-packages/IPython/core/interactiveshell.py:3433\u001b[0m in \u001b[1;35mrun_code\u001b[0m\n    exec(code_obj, self.user_global_ns, self.user_ns)\u001b[0m\n",
      "\u001b[0m  Cell \u001b[1;32mIn [16], line 3\u001b[0m\n    x = literal_eval('~/projects/hw')\u001b[0m\n",
      "\u001b[0m  File \u001b[1;32m~/.conda/envs/dex/lib/python3.10/ast.py:64\u001b[0m in \u001b[1;35mliteral_eval\u001b[0m\n    node_or_string = parse(node_or_string.lstrip(\" \\t\"), mode='eval')\u001b[0m\n",
      "\u001b[0;36m  File \u001b[0;32m~/.conda/envs/dex/lib/python3.10/ast.py:50\u001b[0;36m in \u001b[0;35mparse\u001b[0;36m\n\u001b[0;31m    return compile(source, filename, mode, flags,\u001b[0;36m\n",
      "\u001b[0;36m  File \u001b[0;32m<unknown>:1\u001b[0;36m\u001b[0m\n\u001b[0;31m    ~/projects/hw\u001b[0m\n\u001b[0m     ^\u001b[0m\n\u001b[0;31mSyntaxError\u001b[0m\u001b[0;31m:\u001b[0m invalid syntax\n"
     ]
    }
   ],
   "source": [
    "x = [[1.2,1.4,1.2],]\n",
    "from ast import literal_eval\n",
    "x = literal_eval('~/projects/hw')\n",
    "print(x)\n",
    "print(list(str(x)))"
   ]
  },
  {
   "cell_type": "code",
   "execution_count": null,
   "metadata": {},
   "outputs": [],
   "source": []
  },
  {
   "cell_type": "code",
   "execution_count": 9,
   "metadata": {},
   "outputs": [
    {
     "name": "stdout",
     "output_type": "stream",
     "text": [
      "exp/actual | \n",
      "\trng    : (2,)/(2,) \n",
      "\trng_p  : (1, 2)/(1, 2) \n",
      "\tcps    : (4, 3)/(4, 3)\n",
      "\tr      : (1, 512, 4, 3)/(1, 512, 4, 3)\n",
      "\tdeltar : (1, 1)/(1, 1)\n",
      "\n",
      "path exists, leaving alone\n"
     ]
    }
   ],
   "source": [
    "### model (aka TrainState) ### \n",
    "from functools import partial\n",
    "import jax\n",
    "import optax\n",
    "from flax.training.train_state import TrainState\n",
    "from hwat import FermiNet\n",
    "\n",
    "@partial(jax.pmap, axis_name='dev', in_axes=(0,0))\n",
    "def create_train_state(rng, r):\n",
    "\tmodel = c.partial(FermiNet)\n",
    "\tparams = model.init(rng, r)\n",
    "\topt = optax.chain(optax.clip_by_block_rms(1.),optax.adamw(0.001))\n",
    "\treturn TrainState.create(apply_fn=model.apply, params=params, tx=opt)\n",
    "\n",
    "\n",
    "### train step ###\n",
    "from jax import numpy as jnp\n",
    "from hwat import compute_ke_b, compute_pe_b\n",
    "from typing import NamedTuple\n",
    "\n",
    "@partial(jax.pmap, in_axes=(0, 0))\n",
    "def train_step(state, r_step):\n",
    "\n",
    "\tke = compute_ke_b(state, r_step)\n",
    "\tpe = compute_pe_b(r_step, c.data.a, c.data.a_z)\n",
    "\te = pe + ke\n",
    "\t\n",
    "\te_mean_dist = jnp.mean(jnp.abs(jnp.median(e) - e))\n",
    "\te_clip = jnp.clip(e, a_min=e-5*e_mean_dist, a_max=e+5*e_mean_dist)\n",
    "\n",
    "\tdef loss(params):\n",
    "\t\treturn ((e_clip - e_clip.mean())*state.apply_fn(params, r_step)).mean()\n",
    "\t\n",
    "\tgrads = jax.grad(loss)(state.params)\n",
    "\tstate = state.apply_gradients(grads=grads)\n",
    "\t\n",
    "\tv_tr = dict(\n",
    "\t\tparams=state.params, grads=grads,\n",
    "\t\te=e, pe=pe, ke=ke,\n",
    "\t\tr=r_step\n",
    "\t)\n",
    "\n",
    "\treturn state, v_tr\n",
    "\n",
    "\n",
    "### init variables ###\n",
    "from utils import gen_rng\n",
    "from hwat import init_r, get_center_points\n",
    "from jax import random as rnd\n",
    "\n",
    "rng, rng_p = gen_rng(rnd.PRNGKey(c.seed), c.n_device)\n",
    "center_points = get_center_points(c.data.n_e, c.data.a)\n",
    "r = init_r(rng_p, c.data.n_b, c.data.n_e, center_points, std=0.1)\n",
    "deltar = jnp.array([0.02])[None, :].repeat(n_device, axis=0)\n",
    "\n",
    "print(f\"\"\"exp/actual | \n",
    "\trng    : {(2,)}/{rng.shape} \n",
    "\trng_p  : {(c.n_device,2)}/{rng_p.shape} \n",
    "\tcps    : {(c.data.n_e,3)}/{center_points.shape}\n",
    "\tr      : {(c.n_device, c.data.n_b, c.data.n_e, 3)}/{r.shape}\n",
    "\tdeltar : {(c.n_device, 1)}/{deltar.shape}\n",
    "\"\"\")\n",
    "\n",
    "\n",
    "### init functions ### \n",
    "from hwat import sample_b\n",
    "\n",
    "state = create_train_state(rng_p, r)\n",
    "metro_hast = jax.pmap(partial(sample_b, n_corr=c.data.n_corr), in_axes=(0,0,0,0))\n",
    "\n",
    "\n",
    "### train ###\n",
    "import wandb\n",
    "from hwat import keep_around_points\n",
    "from utils import compute_metrix\n",
    "\n",
    "wandb.define_metric(\"*\", step_metric=\"tr/step\")\n",
    "for step in range(1, c.n_step+1):\n",
    "\trng, rng_p = gen_rng(rng, c.n_device)\n",
    "\n",
    "\tr, acc, deltar = metro_hast(rng_p, state, r, deltar)\n",
    "\tr = keep_around_points(r, center_points, l=2.) if step < 1000 else r\n",
    "\t\n",
    "\tstate, v_tr = train_step(state, r)\n",
    "\n",
    "\tif not (step % c.log_metric_step):\n",
    "\t\tmetrix = compute_metrix(v_tr)\n",
    "\t\twandb.log({'tr/step':step, **metrix})"
   ]
  },
  {
   "cell_type": "code",
   "execution_count": null,
   "metadata": {},
   "outputs": [],
   "source": [
    "# ```{toggle} env vars and jax debug config notes\n",
    "# ❇️ Magic & debug not currently used\n",
    "\n",
    "# %load_ext autoreload\n",
    "# %autoreload 2\n",
    "# %env CUDA_VISIBLE_DEVICES='3'\n",
    "# %env \"WANDB_NOTEBOOK_NAME\" \"run.ipynb\" # ❕same as notebook\n",
    "\n",
    "# from jax.config import config\n",
    "# config.update('jax_disable_jit', True)\n",
    "# ```"
   ]
  }
 ],
 "metadata": {
  "kernelspec": {
   "display_name": "dex",
   "language": "python",
   "name": "python3"
  },
  "language_info": {
   "codemirror_mode": {
    "name": "ipython",
    "version": 3
   },
   "file_extension": ".py",
   "mimetype": "text/x-python",
   "name": "python",
   "nbconvert_exporter": "python",
   "pygments_lexer": "ipython3",
   "version": "3.10.8"
  },
  "orig_nbformat": 4,
  "vscode": {
   "interpreter": {
    "hash": "9b4edb4a58a0461d84e636e9142615dc364f099c3851533546c18fbe9e367308"
   }
  }
 },
 "nbformat": 4,
 "nbformat_minor": 2
}
