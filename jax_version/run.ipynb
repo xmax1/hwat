{
 "cells": [
  {
   "cell_type": "code",
   "execution_count": 1,
   "metadata": {},
   "outputs": [],
   "source": [
    "%load_ext autoreload \n",
    "%autoreload 2"
   ]
  },
  {
   "cell_type": "code",
   "execution_count": 2,
   "metadata": {},
   "outputs": [
    {
     "data": {
      "text/plain": [
       "3"
      ]
     },
     "execution_count": 2,
     "metadata": {},
     "output_type": "execute_result"
    }
   ],
   "source": [
    "from functools import reduce\n",
    "\n",
    "reduce(lambda a,b: a*b, [3] if True else [1])"
   ]
  },
  {
   "cell_type": "code",
   "execution_count": 2,
   "metadata": {},
   "outputs": [
    {
     "name": "stdout",
     "output_type": "stream",
     "text": [
      "exp/t0\n"
     ]
    }
   ],
   "source": [
    "import re \n",
    "from pathlib import Path\n",
    "n_max = 100 \n",
    "folder = Path('exp/t0')\n",
    "def add_to_Path(path: Path, string: str | Path):\n",
    "    return Path(str(path) + str(string))\n",
    "if folder.exists():\n",
    "\n",
    "    if not re.match(folder.name, '-[0-9]*'):\n",
    "        folder = add_to_Path(folder, '-0')\n",
    "        for i in range(n_max+1):\n",
    "            folder = folder.parent / folder.name.split('-')[0]\n",
    "            folder = add_to_Path(folder, f'-{i}')\n",
    "            if not folder.exists():\n",
    "                break\n",
    "print(folder)"
   ]
  },
  {
   "cell_type": "code",
   "execution_count": null,
   "metadata": {},
   "outputs": [],
   "source": [
    "import wandb\n",
    "sweep = dict(\n",
    "        name            = 'sweep',\n",
    "        method          = 'grid',\n",
    "        # name            = 'tr/e_\\mu'\n",
    "        # metrics       = dict(goal='minimize', )\n",
    "        parameters = dict(\n",
    "            n_b  = {'values' : [16, 32, 64]},\n",
    "        )\n",
    ")\n",
    "sweep_id = wandb.sweep(\n",
    "    # program = ii.run_dir / ii.run_name,\n",
    "    sweep   = sweep, \n",
    "    # project = ii.project\n",
    ")"
   ]
  },
  {
   "cell_type": "code",
   "execution_count": 1,
   "metadata": {},
   "outputs": [
    {
     "name": "stderr",
     "output_type": "stream",
     "text": [
      "Failed to detect the name of this notebook, you can set it manually with the WANDB_NOTEBOOK_NAME environment variable to enable code saving.\n",
      "\u001b[34m\u001b[1mwandb\u001b[0m: Currently logged in as: \u001b[33mxmax1\u001b[0m. Use \u001b[1m`wandb login --relogin`\u001b[0m to force relogin\n"
     ]
    },
    {
     "data": {
      "text/html": [
       "wandb version 0.13.7 is available!  To upgrade, please run:\n",
       " $ pip install wandb --upgrade"
      ],
      "text/plain": [
       "<IPython.core.display.HTML object>"
      ]
     },
     "metadata": {},
     "output_type": "display_data"
    },
    {
     "data": {
      "text/html": [
       "Tracking run with wandb version 0.13.5"
      ],
      "text/plain": [
       "<IPython.core.display.HTML object>"
      ]
     },
     "metadata": {},
     "output_type": "display_data"
    },
    {
     "data": {
      "text/html": [
       "Run data is saved locally in <code>/home/amawi/projects/hwat/jax_version/wandb/run-20221216_121015-3fwnpp3a</code>"
      ],
      "text/plain": [
       "<IPython.core.display.HTML object>"
      ]
     },
     "metadata": {},
     "output_type": "display_data"
    },
    {
     "data": {
      "text/html": [
       "Syncing run <strong><a href=\"https://wandb.ai/xmax1/hwat-jax_version/runs/3fwnpp3a\" target=\"_blank\">classic-smoke-5</a></strong> to <a href=\"https://wandb.ai/xmax1/hwat-jax_version\" target=\"_blank\">Weights & Biases</a> (<a href=\"https://wandb.me/run\" target=\"_blank\">docs</a>)<br/>"
      ],
      "text/plain": [
       "<IPython.core.display.HTML object>"
      ]
     },
     "metadata": {},
     "output_type": "display_data"
    },
    {
     "name": "stderr",
     "output_type": "stream",
     "text": [
      "\u001b[34m\u001b[1mwandb\u001b[0m: \u001b[33mWARNING\u001b[0m Calling wandb.login() after wandb.init() has no effect.\n",
      "\u001b[34m\u001b[1mwandb\u001b[0m: \u001b[32m\u001b[41mERROR\u001b[0m Error while calling W&B API: name required for project query (<Response [400]>)\n"
     ]
    },
    {
     "ename": "CommError",
     "evalue": "<Response [400]>",
     "output_type": "error",
     "traceback": [
      "\u001b[0;31m---------------------------------------------------------------------------\u001b[0m",
      "\u001b[0;31mHTTPError\u001b[0m                                 Traceback (most recent call last)",
      "File \u001b[0;32m~/.conda/envs/dex/lib/python3.10/site-packages/wandb/apis/normalize.py:26\u001b[0m, in \u001b[0;36mnormalize_exceptions.<locals>.wrapper\u001b[0;34m(*args, **kwargs)\u001b[0m\n\u001b[1;32m     25\u001b[0m \u001b[39mtry\u001b[39;00m:\n\u001b[0;32m---> 26\u001b[0m     \u001b[39mreturn\u001b[39;00m func(\u001b[39m*\u001b[39;49margs, \u001b[39m*\u001b[39;49m\u001b[39m*\u001b[39;49mkwargs)\n\u001b[1;32m     27\u001b[0m \u001b[39mexcept\u001b[39;00m requests\u001b[39m.\u001b[39mHTTPError \u001b[39mas\u001b[39;00m err:\n",
      "File \u001b[0;32m~/.conda/envs/dex/lib/python3.10/site-packages/wandb/sdk/internal/internal_api.py:694\u001b[0m, in \u001b[0;36mApi.sweep\u001b[0;34m(self, sweep, specs, project, entity)\u001b[0m\n\u001b[1;32m    693\u001b[0m project \u001b[39m=\u001b[39m project \u001b[39mor\u001b[39;00m \u001b[39mself\u001b[39m\u001b[39m.\u001b[39msettings(\u001b[39m\"\u001b[39m\u001b[39mproject\u001b[39m\u001b[39m\"\u001b[39m)\n\u001b[0;32m--> 694\u001b[0m response \u001b[39m=\u001b[39m \u001b[39mself\u001b[39;49m\u001b[39m.\u001b[39;49mgql(\n\u001b[1;32m    695\u001b[0m     query,\n\u001b[1;32m    696\u001b[0m     variable_values\u001b[39m=\u001b[39;49m{\n\u001b[1;32m    697\u001b[0m         \u001b[39m\"\u001b[39;49m\u001b[39mentity\u001b[39;49m\u001b[39m\"\u001b[39;49m: entity,\n\u001b[1;32m    698\u001b[0m         \u001b[39m\"\u001b[39;49m\u001b[39mproject\u001b[39;49m\u001b[39m\"\u001b[39;49m: project,\n\u001b[1;32m    699\u001b[0m         \u001b[39m\"\u001b[39;49m\u001b[39msweep\u001b[39;49m\u001b[39m\"\u001b[39;49m: sweep,\n\u001b[1;32m    700\u001b[0m         \u001b[39m\"\u001b[39;49m\u001b[39mspecs\u001b[39;49m\u001b[39m\"\u001b[39;49m: specs,\n\u001b[1;32m    701\u001b[0m     },\n\u001b[1;32m    702\u001b[0m )\n\u001b[1;32m    703\u001b[0m \u001b[39mif\u001b[39;00m response[\u001b[39m\"\u001b[39m\u001b[39mproject\u001b[39m\u001b[39m\"\u001b[39m] \u001b[39mis\u001b[39;00m \u001b[39mNone\u001b[39;00m \u001b[39mor\u001b[39;00m response[\u001b[39m\"\u001b[39m\u001b[39mproject\u001b[39m\u001b[39m\"\u001b[39m][\u001b[39m\"\u001b[39m\u001b[39msweep\u001b[39m\u001b[39m\"\u001b[39m] \u001b[39mis\u001b[39;00m \u001b[39mNone\u001b[39;00m:\n",
      "File \u001b[0;32m~/.conda/envs/dex/lib/python3.10/site-packages/wandb/sdk/lib/retry.py:113\u001b[0m, in \u001b[0;36mRetry.__call__\u001b[0;34m(self, *args, **kwargs)\u001b[0m\n\u001b[1;32m    112\u001b[0m \u001b[39mtry\u001b[39;00m:\n\u001b[0;32m--> 113\u001b[0m     result \u001b[39m=\u001b[39m \u001b[39mself\u001b[39;49m\u001b[39m.\u001b[39;49m_call_fn(\u001b[39m*\u001b[39;49margs, \u001b[39m*\u001b[39;49m\u001b[39m*\u001b[39;49mkwargs)\n\u001b[1;32m    114\u001b[0m     \u001b[39m# Only print resolved attempts once every minute\u001b[39;00m\n",
      "File \u001b[0;32m~/.conda/envs/dex/lib/python3.10/site-packages/wandb/sdk/internal/internal_api.py:210\u001b[0m, in \u001b[0;36mApi.execute\u001b[0;34m(self, *args, **kwargs)\u001b[0m\n\u001b[1;32m    209\u001b[0m \u001b[39mtry\u001b[39;00m:\n\u001b[0;32m--> 210\u001b[0m     \u001b[39mreturn\u001b[39;00m \u001b[39mself\u001b[39;49m\u001b[39m.\u001b[39;49mclient\u001b[39m.\u001b[39;49mexecute(\u001b[39m*\u001b[39;49margs, \u001b[39m*\u001b[39;49m\u001b[39m*\u001b[39;49mkwargs)  \u001b[39m# type: ignore\u001b[39;00m\n\u001b[1;32m    211\u001b[0m \u001b[39mexcept\u001b[39;00m requests\u001b[39m.\u001b[39mexceptions\u001b[39m.\u001b[39mHTTPError \u001b[39mas\u001b[39;00m err:\n",
      "File \u001b[0;32m~/.conda/envs/dex/lib/python3.10/site-packages/wandb/vendor/gql-0.2.0/wandb_gql/client.py:52\u001b[0m, in \u001b[0;36mClient.execute\u001b[0;34m(self, document, *args, **kwargs)\u001b[0m\n\u001b[1;32m     50\u001b[0m     \u001b[39mself\u001b[39m\u001b[39m.\u001b[39mvalidate(document)\n\u001b[0;32m---> 52\u001b[0m result \u001b[39m=\u001b[39m \u001b[39mself\u001b[39;49m\u001b[39m.\u001b[39;49m_get_result(document, \u001b[39m*\u001b[39;49margs, \u001b[39m*\u001b[39;49m\u001b[39m*\u001b[39;49mkwargs)\n\u001b[1;32m     53\u001b[0m \u001b[39mif\u001b[39;00m result\u001b[39m.\u001b[39merrors:\n",
      "File \u001b[0;32m~/.conda/envs/dex/lib/python3.10/site-packages/wandb/vendor/gql-0.2.0/wandb_gql/client.py:60\u001b[0m, in \u001b[0;36mClient._get_result\u001b[0;34m(self, document, *args, **kwargs)\u001b[0m\n\u001b[1;32m     59\u001b[0m \u001b[39mif\u001b[39;00m \u001b[39mnot\u001b[39;00m \u001b[39mself\u001b[39m\u001b[39m.\u001b[39mretries:\n\u001b[0;32m---> 60\u001b[0m     \u001b[39mreturn\u001b[39;00m \u001b[39mself\u001b[39;49m\u001b[39m.\u001b[39;49mtransport\u001b[39m.\u001b[39;49mexecute(document, \u001b[39m*\u001b[39;49margs, \u001b[39m*\u001b[39;49m\u001b[39m*\u001b[39;49mkwargs)\n\u001b[1;32m     62\u001b[0m last_exception \u001b[39m=\u001b[39m \u001b[39mNone\u001b[39;00m\n",
      "File \u001b[0;32m~/.conda/envs/dex/lib/python3.10/site-packages/wandb/vendor/gql-0.2.0/wandb_gql/transport/requests.py:39\u001b[0m, in \u001b[0;36mRequestsHTTPTransport.execute\u001b[0;34m(self, document, variable_values, timeout)\u001b[0m\n\u001b[1;32m     38\u001b[0m request \u001b[39m=\u001b[39m requests\u001b[39m.\u001b[39mpost(\u001b[39mself\u001b[39m\u001b[39m.\u001b[39murl, \u001b[39m*\u001b[39m\u001b[39m*\u001b[39mpost_args)\n\u001b[0;32m---> 39\u001b[0m request\u001b[39m.\u001b[39;49mraise_for_status()\n\u001b[1;32m     41\u001b[0m result \u001b[39m=\u001b[39m request\u001b[39m.\u001b[39mjson()\n",
      "File \u001b[0;32m~/.conda/envs/dex/lib/python3.10/site-packages/requests/models.py:1021\u001b[0m, in \u001b[0;36mResponse.raise_for_status\u001b[0;34m(self)\u001b[0m\n\u001b[1;32m   1020\u001b[0m \u001b[39mif\u001b[39;00m http_error_msg:\n\u001b[0;32m-> 1021\u001b[0m     \u001b[39mraise\u001b[39;00m HTTPError(http_error_msg, response\u001b[39m=\u001b[39m\u001b[39mself\u001b[39m)\n",
      "\u001b[0;31mHTTPError\u001b[0m: 400 Client Error: Bad Request for url: https://api.wandb.ai/graphql",
      "\nDuring handling of the above exception, another exception occurred:\n",
      "\u001b[0;31mCommError\u001b[0m                                 Traceback (most recent call last)",
      "Cell \u001b[0;32mIn [1], line 3\u001b[0m\n\u001b[1;32m      1\u001b[0m \u001b[39mimport\u001b[39;00m \u001b[39mwandb\u001b[39;00m\n\u001b[1;32m      2\u001b[0m wandb\u001b[39m.\u001b[39minit()\n\u001b[0;32m----> 3\u001b[0m wandb\u001b[39m.\u001b[39;49magent(sweep_id\u001b[39m=\u001b[39;49m\u001b[39m'\u001b[39;49m\u001b[39mo0c55ewt\u001b[39;49m\u001b[39m'\u001b[39;49m)\n",
      "File \u001b[0;32m~/.conda/envs/dex/lib/python3.10/site-packages/wandb/wandb_agent.py:641\u001b[0m, in \u001b[0;36magent\u001b[0;34m(sweep_id, function, entity, project, count)\u001b[0m\n\u001b[1;32m    639\u001b[0m         \u001b[39mreturn\u001b[39;00m pyagent(sweep_id, function, entity, project, count)\n\u001b[1;32m    640\u001b[0m     in_jupyter \u001b[39m=\u001b[39m wandb\u001b[39m.\u001b[39mwandb_sdk\u001b[39m.\u001b[39mlib\u001b[39m.\u001b[39mipython\u001b[39m.\u001b[39m_get_python_type() \u001b[39m!=\u001b[39m \u001b[39m\"\u001b[39m\u001b[39mpython\u001b[39m\u001b[39m\"\u001b[39m\n\u001b[0;32m--> 641\u001b[0m     \u001b[39mreturn\u001b[39;00m run_agent(\n\u001b[1;32m    642\u001b[0m         sweep_id,\n\u001b[1;32m    643\u001b[0m         function\u001b[39m=\u001b[39;49mfunction,\n\u001b[1;32m    644\u001b[0m         in_jupyter\u001b[39m=\u001b[39;49min_jupyter,\n\u001b[1;32m    645\u001b[0m         entity\u001b[39m=\u001b[39;49mentity,\n\u001b[1;32m    646\u001b[0m         project\u001b[39m=\u001b[39;49mproject,\n\u001b[1;32m    647\u001b[0m         count\u001b[39m=\u001b[39;49mcount,\n\u001b[1;32m    648\u001b[0m     )\n\u001b[1;32m    649\u001b[0m \u001b[39mfinally\u001b[39;00m:\n\u001b[1;32m    650\u001b[0m     _INSTANCES \u001b[39m-\u001b[39m\u001b[39m=\u001b[39m \u001b[39m1\u001b[39m\n",
      "File \u001b[0;32m~/.conda/envs/dex/lib/python3.10/site-packages/wandb/wandb_agent.py:583\u001b[0m, in \u001b[0;36mrun_agent\u001b[0;34m(sweep_id, function, in_jupyter, entity, project, count)\u001b[0m\n\u001b[1;32m    574\u001b[0m     queue \u001b[39m=\u001b[39m multiprocessing\u001b[39m.\u001b[39mQueue()\n\u001b[1;32m    575\u001b[0m     agent \u001b[39m=\u001b[39m Agent(\n\u001b[1;32m    576\u001b[0m         api,\n\u001b[1;32m    577\u001b[0m         queue,\n\u001b[0;32m   (...)\u001b[0m\n\u001b[1;32m    581\u001b[0m         count\u001b[39m=\u001b[39mcount,\n\u001b[1;32m    582\u001b[0m     )\n\u001b[0;32m--> 583\u001b[0m     agent\u001b[39m.\u001b[39;49mrun()\n\u001b[1;32m    584\u001b[0m \u001b[39mfinally\u001b[39;00m:\n\u001b[1;32m    585\u001b[0m     \u001b[39m# make sure we remove the logging handler (important for jupyter notebooks)\u001b[39;00m\n\u001b[1;32m    586\u001b[0m     logger\u001b[39m.\u001b[39mremoveHandler(ch)\n",
      "File \u001b[0;32m~/.conda/envs/dex/lib/python3.10/site-packages/wandb/wandb_agent.py:188\u001b[0m, in \u001b[0;36mAgent.run\u001b[0;34m(self)\u001b[0m\n\u001b[1;32m    185\u001b[0m \u001b[39mdef\u001b[39;00m \u001b[39mrun\u001b[39m(\u001b[39mself\u001b[39m):  \u001b[39m# noqa: C901\u001b[39;00m\n\u001b[1;32m    186\u001b[0m \n\u001b[1;32m    187\u001b[0m     \u001b[39m# TODO: catch exceptions, handle errors, show validation warnings, and make more generic\u001b[39;00m\n\u001b[0;32m--> 188\u001b[0m     sweep_obj \u001b[39m=\u001b[39m \u001b[39mself\u001b[39;49m\u001b[39m.\u001b[39;49m_api\u001b[39m.\u001b[39;49msweep(\u001b[39mself\u001b[39;49m\u001b[39m.\u001b[39;49m_sweep_id, \u001b[39m\"\u001b[39;49m\u001b[39m{}\u001b[39;49;00m\u001b[39m\"\u001b[39;49m)\n\u001b[1;32m    189\u001b[0m     \u001b[39mif\u001b[39;00m sweep_obj:\n\u001b[1;32m    190\u001b[0m         sweep_yaml \u001b[39m=\u001b[39m sweep_obj\u001b[39m.\u001b[39mget(\u001b[39m\"\u001b[39m\u001b[39mconfig\u001b[39m\u001b[39m\"\u001b[39m)\n",
      "File \u001b[0;32m~/.conda/envs/dex/lib/python3.10/site-packages/wandb/apis/internal.py:99\u001b[0m, in \u001b[0;36mApi.sweep\u001b[0;34m(self, *args, **kwargs)\u001b[0m\n\u001b[1;32m     98\u001b[0m \u001b[39mdef\u001b[39;00m \u001b[39msweep\u001b[39m(\u001b[39mself\u001b[39m, \u001b[39m*\u001b[39margs, \u001b[39m*\u001b[39m\u001b[39m*\u001b[39mkwargs):\n\u001b[0;32m---> 99\u001b[0m     \u001b[39mreturn\u001b[39;00m \u001b[39mself\u001b[39;49m\u001b[39m.\u001b[39;49mapi\u001b[39m.\u001b[39;49msweep(\u001b[39m*\u001b[39;49margs, \u001b[39m*\u001b[39;49m\u001b[39m*\u001b[39;49mkwargs)\n",
      "File \u001b[0;32m~/.conda/envs/dex/lib/python3.10/site-packages/wandb/apis/normalize.py:28\u001b[0m, in \u001b[0;36mnormalize_exceptions.<locals>.wrapper\u001b[0;34m(*args, **kwargs)\u001b[0m\n\u001b[1;32m     26\u001b[0m     \u001b[39mreturn\u001b[39;00m func(\u001b[39m*\u001b[39margs, \u001b[39m*\u001b[39m\u001b[39m*\u001b[39mkwargs)\n\u001b[1;32m     27\u001b[0m \u001b[39mexcept\u001b[39;00m requests\u001b[39m.\u001b[39mHTTPError \u001b[39mas\u001b[39;00m err:\n\u001b[0;32m---> 28\u001b[0m     \u001b[39mraise\u001b[39;00m CommError(err\u001b[39m.\u001b[39mresponse, err)\n\u001b[1;32m     29\u001b[0m \u001b[39mexcept\u001b[39;00m RetryError \u001b[39mas\u001b[39;00m err:\n\u001b[1;32m     30\u001b[0m     \u001b[39mif\u001b[39;00m (\n\u001b[1;32m     31\u001b[0m         \u001b[39m\"\u001b[39m\u001b[39mresponse\u001b[39m\u001b[39m\"\u001b[39m \u001b[39min\u001b[39;00m \u001b[39mdir\u001b[39m(err\u001b[39m.\u001b[39mlast_exception)\n\u001b[1;32m     32\u001b[0m         \u001b[39mand\u001b[39;00m err\u001b[39m.\u001b[39mlast_exception\u001b[39m.\u001b[39mresponse \u001b[39mis\u001b[39;00m \u001b[39mnot\u001b[39;00m \u001b[39mNone\u001b[39;00m\n\u001b[1;32m     33\u001b[0m     ):\n",
      "\u001b[0;31mCommError\u001b[0m: <Response [400]>"
     ]
    }
   ],
   "source": [
    "\n",
    "wandb.init()\n",
    "wandb.agent(sweep_id='o0c55ewt')\n",
    "    # entity='hwat', project='hwat')"
   ]
  },
  {
   "cell_type": "code",
   "execution_count": 14,
   "metadata": {},
   "outputs": [
    {
     "name": "stdout",
     "output_type": "stream",
     "text": [
      "b'024599c'\n",
      "b''\n",
      "wandb_mode online not assigned\n",
      "b'024599c'\n",
      "b''\n",
      "b'[main f27d764] \"run_things\"\\n Committer: Adam Maximilian Wilson <amawi@oceanus.imm.dtu.dk>\\nYour name and email address were configured automatically based\\non your username and hostname. Please check that they are accurate.\\nYou can suppress this message by setting them explicitly. Run the\\nfollowing command and follow the instructions in your editor to edit\\nyour configuration file:\\n\\n    git config --global --edit\\n\\nAfter doing this, you may fix the identity used for this commit with:\\n\\n    git commit --amend --reset-author\\n\\n 2 files changed, 13 insertions(+), 16 deletions(-)\\n'\n",
      "b''\n",
      "b''\n",
      "b'To github.com:xmax1/hwat.git\\n   024599c..f27d764  main -> main\\n'\n",
      "projects/hwat \n",
      " git fetch --all\n",
      "From https://github.com/xmax1/hwat\n",
      "\n",
      "   024599c..f27d764  main       -> origin/main\n",
      "\n",
      "projects/hwat \n",
      " git reset --hard origin/main\n",
      "Fetching origin\n",
      "\n",
      "From https://github.com/xmax1/hwat\n",
      "\n",
      "   024599c..f27d764  main       -> origin/main\n",
      "\n",
      "HEAD is now at f27d764 \"run_things\"\n",
      "\n",
      "projects/hwat/jax_version \n",
      " python run.py --run_name run.py --exp_name junk --exp_id MCjA8GM --seed 808017424 --dtype float32 --n_step 10000 --log_metric_step 50 --log_state_step 10 --charge 0 --spin 0 --a [[0.0,0.0,0.0]] --a_z [4.0] --n_b 512 --n_corr 20 --n_equil 10000 --acc_target 0.5 --with_sign False --n_sv 32 --n_pv 32 --n_fb 2 --n_det 1 --terms_s_emb ['ra','ra_len'] --terms_p_emb ['rr','rr_len'] --method random --goal minimize --name validation_loss --values [16,32,64] --max 0.1 --min 0.0001 --n_sweep 4 --run None --job_type training --mail_type FAIL --partition sm3090 --nodes 1 --ntasks 8 --cpus_per_task 1 --time 0-12:00:00 --gres gpu:RTX3090:1 --TMP dump/tmp --user amawi --server svol.fysik.dtu.dk --git_remote origin --git_branch main --env dex --n_job 1\n",
      "Submitted 0 to  slurm\n",
      "\n",
      "b'f27d764'\n",
      "\n",
      "b''\n",
      "\n",
      "run not in ref\n",
      "\n",
      "goal minimize not assigned\n",
      "\n",
      "name validation_loss not assigned\n",
      "\n",
      "values [16, 32, 64] not assigned\n",
      "\n",
      "max 0.1 not assigned\n",
      "\n",
      "min 0.0001 not assigned\n",
      "\n",
      "wandb_mode disabled not assigned\n",
      "\n",
      "b'f27d764'\n",
      "\n",
      "b''\n",
      "\n",
      "b''\n",
      "\n",
      "b''\n",
      "\n",
      "Submitted batch job 5755196\n",
      "\n",
      "\n",
      "\n",
      "Submitted 0 to  slurm\n",
      "\n"
     ]
    },
    {
     "ename": "SystemExit",
     "evalue": "Submitted 1 to server ",
     "output_type": "error",
     "traceback": [
      "An exception has occurred, use %tb to see the full traceback.\n",
      "\u001b[0;31mSystemExit\u001b[0m\u001b[0;31m:\u001b[0m Submitted 1 to server \n"
     ]
    },
    {
     "name": "stderr",
     "output_type": "stream",
     "text": [
      "/home/amawi/.conda/envs/dex/lib/python3.10/site-packages/IPython/core/interactiveshell.py:3441: UserWarning: To exit: use 'exit', 'quit', or Ctrl-D.\n",
      "  warn(\"To exit: use 'exit', 'quit', or Ctrl-D.\", stacklevel=1)\n"
     ]
    }
   ],
   "source": [
    "from pyfig import Pyfig\n",
    "import numpy as np\n",
    "\n",
    "arg = dict(\n",
    "\tcharge = 0,\n",
    "\tspin  = 0,\n",
    "\ta = np.array([[0.0, 0.0, 0.0],]),\n",
    "\ta_z  = np.array([4.,]),\n",
    "\tn_b = 512, \n",
    "\tn_sv = 32, \n",
    "\tn_pv = 32, \n",
    "\tn_corr = 20, \n",
    "\tn_step = 10000, \n",
    "\tlog_metric_step = 50, \n",
    "\texp_name = 'junk',\n",
    " \n",
    "\t# sweep = {},\n",
    ")\n",
    "\n",
    "c = Pyfig(wandb_mode='online', arg=arg, submit=True, sweep=False)\n",
    "\n",
    "from utils import cmd_to_dict, flat_any\n",
    "\n",
    "d = cmd_to_dict(c.cmd, flat_any(c.d))"
   ]
  },
  {
   "cell_type": "code",
   "execution_count": 16,
   "metadata": {},
   "outputs": [
    {
     "data": {
      "text/plain": [
       "{'array': None, 'account': None, 'acctg_freq': None, 'extra_node_info': None, 'batch': None, 'bb': None, 'bbf': None, 'begin': None, 'cluster_constraint': None, 'comment': None, 'constraint': None, 'contiguous': None, 'cores_per_socket': None, 'cpu_freq': None, 'cpus_per_gpu': None, 'cpus_per_task': '1', 'deadline': None, 'delay_boot': None, 'dependency': None, 'chdir': None, 'error': 'dump/tmp/e-%j.err', 'exclusive': None, 'export': None, 'export_file': None, 'nodefile': None, 'get_user_env': None, 'gid': None, 'gpus': None, 'gpu_bind': None, 'gpu_freq': None, 'gpus_per_node': None, 'gpus_per_socket': None, 'gpus_per_task': None, 'gres': 'gpu:RTX3090:1', 'gres_flags': None, 'hold': None, 'hint': None, 'ignore_pbs': None, 'input': None, 'job_name': 'demo-final', 'no_kill': None, 'kill_on_invalid_dep': None, 'licenses': None, 'clusters': None, 'distribution': None, 'mail_type': 'FAIL', 'mail_user': None, 'mcs_label': None, 'mem': None, 'mem_per_cpu': None, 'mem_per_gpu': None, 'mem_bind': None, 'mincpus': None, 'nodes': '1', 'ntasks': '8', 'network': None, 'nice': None, 'no_requeue': None, 'ntasks_per_core': None, 'ntasks_per_node': None, 'ntasks_per_socket': None, 'overcommit': None, 'output': 'dump/tmp/o-%j.out', 'open_mode': None, 'parsable': None, 'partition': 'sm3090', 'power': None, 'priority': None, 'profile': None, 'propagate': None, 'qos': None, 'quiet': None, 'reboot': None, 'requeue': None, 'reservation': None, 'oversubscribe': None, 'core_spec': None, 'signal': None, 'sockets_per_node': None, 'spread_job': None, 'switches': None, 'time': '0-12:00:00', 'test_only': None, 'thread_spec': None, 'threads_per_core': None, 'time_min': None, 'tmp': None, 'usage': None, 'uid': None, 'use_min_nodes': None, 'version': None, 'verbose': None, 'nodelist': None, 'wait': None, 'wait_all_nodes': None, 'wckey': None, 'wrap': None, 'exclude': None}"
      ]
     },
     "execution_count": 16,
     "metadata": {},
     "output_type": "execute_result"
    }
   ],
   "source": [
    "# c.sbatch\n",
    "\n",
    "# import io\n",
    "# script = io.StringIO(c.sbatch)\n",
    "# script\n",
    "\n",
    "# from simple_slurm import Slurm\n",
    "# slurm = Slurm(**c.slurm.d)"
   ]
  },
  {
   "cell_type": "code",
   "execution_count": 4,
   "metadata": {},
   "outputs": [
    {
     "name": "stdout",
     "output_type": "stream",
     "text": [
      "<pyfig.Pyfig object at 0x7f436c6641f0>\n",
      "['git', 'log', '--pretty=format:%h', '-n', '1']\n",
      "~/projects/hwat\n",
      "dict_keys(['project_root', 'project', 'run_dir', 'run_name', 'exp_name', 'exp_id', 'sweep_id', 'seed', 'dtype', 'n_step', 'log_metric_step', 'log_state_step', 'data', 'model', 'wandb_c', 'slurm', 'TMP', 'project_path', 'server_project_path', 'n_device', 'exp_path', 'user', 'server', 'git_remote', 'git_branch', 'env', 'commit_id'])\n",
      "Running __init__\n",
      "<pyfig.Pyfig object at 0x7f436c6641f0>\n",
      "['git', 'log', '--pretty=format:%h', '-n', '1']\n",
      "~/projects/hwat\n",
      "<pyfig.Pyfig object at 0x7f436c6641f0>\n",
      "['git', 'log', '--pretty=format:%h', '-n', '1']\n",
      "~/projects/hwat\n",
      "🤖 1 GPUs available\n"
     ]
    },
    {
     "ename": "AttributeError",
     "evalue": "'Pyfig' object has no attribute '_run_terminal'",
     "output_type": "error",
     "traceback": [
      "\u001b[0;31m---------------------------------------------------------------------------\u001b[0m",
      "\u001b[0;31mAttributeError\u001b[0m                            Traceback (most recent call last)",
      "Cell \u001b[0;32mIn [4], line 40\u001b[0m\n\u001b[1;32m     37\u001b[0m \u001b[39mprint\u001b[39m(\u001b[39mf\u001b[39m\u001b[39m'\u001b[39m\u001b[39m🤖 \u001b[39m\u001b[39m{\u001b[39;00mn_device\u001b[39m}\u001b[39;00m\u001b[39m GPUs available\u001b[39m\u001b[39m'\u001b[39m)\n\u001b[1;32m     39\u001b[0m \u001b[39mfrom\u001b[39;00m \u001b[39mutils\u001b[39;00m \u001b[39mimport\u001b[39;00m run_cmds_server\n\u001b[0;32m---> 40\u001b[0m cmd \u001b[39m=\u001b[39m c\u001b[39m.\u001b[39;49m_run_terminal[[\u001b[39m'\u001b[39m\u001b[39mpy\u001b[39m\u001b[39m'\u001b[39m, \u001b[39m'\u001b[39m\u001b[39mipynb\u001b[39m\u001b[39m'\u001b[39m][\u001b[39mTrue\u001b[39;00m]] \u001b[39m+\u001b[39m c\u001b[39m.\u001b[39mcmd\n\u001b[1;32m     41\u001b[0m \u001b[39mprint\u001b[39m(cmd)\n\u001b[1;32m     42\u001b[0m server_out \u001b[39m=\u001b[39m run_cmds_server(c\u001b[39m.\u001b[39mserver, c\u001b[39m.\u001b[39muser, cmd, c\u001b[39m.\u001b[39mserver_project_path)[\u001b[39m0\u001b[39m]\n",
      "\u001b[0;31mAttributeError\u001b[0m: 'Pyfig' object has no attribute '_run_terminal'"
     ]
    }
   ],
   "source": [
    "### Distribution ✨ ❇ Demo 💪 ### \n",
    "import os\n",
    "os.environ['CUDA_VISIBLE_DEVICES'] = '3'\n",
    "\n",
    "### fancy logging variables, philosophically reminding us of the goal ###\n",
    "fancy = dict(\n",
    "\t\tpe\t\t= r'$V(X)',    \t\t\t\t\n",
    "\t\tke\t\t= r'$\\nabla^2',    \t\t\n",
    "\t\te\t\t= r'$E',\t\t\t\t\t\t\n",
    "\t\tlog_psi\t= r'$\\log\\psi', \t\t\t\n",
    "\t\tdeltar\t= r'$\\delta_\\mathrm{r}',\t\n",
    "\t\tx\t\t= r'$r_\\mathrm{e}',\n",
    ")\n",
    "\n",
    "### pyfig ###\n",
    "from pyfig import Pyfig\n",
    "import numpy as np\n",
    "\n",
    "arg = dict(\n",
    "\tcharge = 0,\n",
    "\tspin  = 0,\n",
    "\ta = np.array([[0.0, 0.0, 0.0],]),\n",
    "\ta_z  = np.array([4.,]),\n",
    "\tn_b = 512, \n",
    "\tn_sv = 32, \n",
    "\tn_pv = 32, \n",
    "\tn_corr = 20, \n",
    "\tn_step = 10000, \n",
    "\tlog_metric_step = 50, \n",
    "\texp_name = 'junk',\n",
    "\t# sweep = {},\n",
    ")\n",
    "\n",
    "c = Pyfig(wandb_mode='disabled', arg=arg, submit=False, notebook=True)\n",
    "\n",
    "n_device = c.n_device\n",
    "print(f'🤖 {n_device} GPUs available')\n",
    "\n",
    "from utils import run_cmds_server\n",
    "cmd = c._run_terminal[['py', 'ipynb'][True]] + c.cmd\n",
    "print(cmd)\n",
    "server_out = run_cmds_server(c.server, c.user, cmd, c.server_project_path)[0]\n",
    "print(server_out)\n",
    "\n",
    "\"\"\" live plotting in another notebook \"\"\"\n",
    "\"\"\" copy lines and run in analysis while the exp is live \"\"\"\n",
    "# api = wandb.Api()\n",
    "# run = api.run(\"<run-here>\")\n",
    "# c = run.config\n",
    "# h = run.history()\n",
    "# s = run.summary"
   ]
  },
  {
   "cell_type": "code",
   "execution_count": 16,
   "metadata": {},
   "outputs": [
    {
     "ename": "SyntaxError",
     "evalue": "invalid syntax (<unknown>, line 1)",
     "output_type": "error",
     "traceback": [
      "Traceback \u001b[0;36m(most recent call last)\u001b[0m:\n",
      "\u001b[0m  File \u001b[1;32m~/.conda/envs/dex/lib/python3.10/site-packages/IPython/core/interactiveshell.py:3433\u001b[0m in \u001b[1;35mrun_code\u001b[0m\n    exec(code_obj, self.user_global_ns, self.user_ns)\u001b[0m\n",
      "\u001b[0m  Cell \u001b[1;32mIn [16], line 3\u001b[0m\n    x = literal_eval('~/projects/hw')\u001b[0m\n",
      "\u001b[0m  File \u001b[1;32m~/.conda/envs/dex/lib/python3.10/ast.py:64\u001b[0m in \u001b[1;35mliteral_eval\u001b[0m\n    node_or_string = parse(node_or_string.lstrip(\" \\t\"), mode='eval')\u001b[0m\n",
      "\u001b[0;36m  File \u001b[0;32m~/.conda/envs/dex/lib/python3.10/ast.py:50\u001b[0;36m in \u001b[0;35mparse\u001b[0;36m\n\u001b[0;31m    return compile(source, filename, mode, flags,\u001b[0;36m\n",
      "\u001b[0;36m  File \u001b[0;32m<unknown>:1\u001b[0;36m\u001b[0m\n\u001b[0;31m    ~/projects/hw\u001b[0m\n\u001b[0m     ^\u001b[0m\n\u001b[0;31mSyntaxError\u001b[0m\u001b[0;31m:\u001b[0m invalid syntax\n"
     ]
    }
   ],
   "source": [
    "x = [[1.2,1.4,1.2],]\n",
    "from ast import literal_eval\n",
    "x = literal_eval('~/projects/hw')\n",
    "print(x)\n",
    "print(list(str(x)))"
   ]
  },
  {
   "cell_type": "code",
   "execution_count": null,
   "metadata": {},
   "outputs": [],
   "source": []
  },
  {
   "cell_type": "code",
   "execution_count": 9,
   "metadata": {},
   "outputs": [
    {
     "name": "stdout",
     "output_type": "stream",
     "text": [
      "exp/actual | \n",
      "\trng    : (2,)/(2,) \n",
      "\trng_p  : (1, 2)/(1, 2) \n",
      "\tcps    : (4, 3)/(4, 3)\n",
      "\tr      : (1, 512, 4, 3)/(1, 512, 4, 3)\n",
      "\tdeltar : (1, 1)/(1, 1)\n",
      "\n",
      "path exists, leaving alone\n"
     ]
    }
   ],
   "source": [
    "### model (aka TrainState) ### \n",
    "from functools import partial\n",
    "import jax\n",
    "import optax\n",
    "from flax.training.train_state import TrainState\n",
    "from hwat import FermiNet\n",
    "\n",
    "@partial(jax.pmap, axis_name='dev', in_axes=(0,0))\n",
    "def create_train_state(rng, r):\n",
    "\tmodel = c.partial(FermiNet)\n",
    "\tparams = model.init(rng, r)\n",
    "\topt = optax.chain(optax.clip_by_block_rms(1.),optax.adamw(0.001))\n",
    "\treturn TrainState.create(apply_fn=model.apply, params=params, tx=opt)\n",
    "\n",
    "\n",
    "### train step ###\n",
    "from jax import numpy as jnp\n",
    "from hwat import compute_ke_b, compute_pe_b\n",
    "from typing import NamedTuple\n",
    "\n",
    "@partial(jax.pmap, in_axes=(0, 0))\n",
    "def train_step(state, r_step):\n",
    "\n",
    "\tke = compute_ke_b(state, r_step)\n",
    "\tpe = compute_pe_b(r_step, c.data.a, c.data.a_z)\n",
    "\te = pe + ke\n",
    "\t\n",
    "\te_mean_dist = jnp.mean(jnp.abs(jnp.median(e) - e))\n",
    "\te_clip = jnp.clip(e, a_min=e-5*e_mean_dist, a_max=e+5*e_mean_dist)\n",
    "\n",
    "\tdef loss(params):\n",
    "\t\treturn ((e_clip - e_clip.mean())*state.apply_fn(params, r_step)).mean()\n",
    "\t\n",
    "\tgrads = jax.grad(loss)(state.params)\n",
    "\tstate = state.apply_gradients(grads=grads)\n",
    "\t\n",
    "\tv_tr = dict(\n",
    "\t\tparams=state.params, grads=grads,\n",
    "\t\te=e, pe=pe, ke=ke,\n",
    "\t\tr=r_step\n",
    "\t)\n",
    "\n",
    "\treturn state, v_tr\n",
    "\n",
    "\n",
    "### init variables ###\n",
    "from utils import gen_rng\n",
    "from hwat import init_r, get_center_points\n",
    "from jax import random as rnd\n",
    "\n",
    "rng, rng_p = gen_rng(rnd.PRNGKey(c.seed), c.n_device)\n",
    "center_points = get_center_points(c.data.n_e, c.data.a)\n",
    "r = init_r(rng_p, c.data.n_b, c.data.n_e, center_points, std=0.1)\n",
    "deltar = jnp.array([0.02])[None, :].repeat(n_device, axis=0)\n",
    "\n",
    "print(f\"\"\"exp/actual | \n",
    "\trng    : {(2,)}/{rng.shape} \n",
    "\trng_p  : {(c.n_device,2)}/{rng_p.shape} \n",
    "\tcps    : {(c.data.n_e,3)}/{center_points.shape}\n",
    "\tr      : {(c.n_device, c.data.n_b, c.data.n_e, 3)}/{r.shape}\n",
    "\tdeltar : {(c.n_device, 1)}/{deltar.shape}\n",
    "\"\"\")\n",
    "\n",
    "\n",
    "### init functions ### \n",
    "from hwat import sample_b\n",
    "\n",
    "state = create_train_state(rng_p, r)\n",
    "metro_hast = jax.pmap(partial(sample_b, n_corr=c.data.n_corr), in_axes=(0,0,0,0))\n",
    "\n",
    "\n",
    "### train ###\n",
    "import wandb\n",
    "from hwat import keep_around_points\n",
    "from utils import compute_metrix\n",
    "\n",
    "wandb.define_metric(\"*\", step_metric=\"tr/step\")\n",
    "for step in range(1, c.n_step+1):\n",
    "\trng, rng_p = gen_rng(rng, c.n_device)\n",
    "\n",
    "\tr, acc, deltar = metro_hast(rng_p, state, r, deltar)\n",
    "\tr = keep_around_points(r, center_points, l=2.) if step < 1000 else r\n",
    "\t\n",
    "\tstate, v_tr = train_step(state, r)\n",
    "\n",
    "\tif not (step % c.log_metric_step):\n",
    "\t\tmetrix = compute_metrix(v_tr)\n",
    "\t\twandb.log({'tr/step':step, **metrix})"
   ]
  },
  {
   "cell_type": "code",
   "execution_count": null,
   "metadata": {},
   "outputs": [],
   "source": [
    "# ```{toggle} env vars and jax debug config notes\n",
    "# ❇️ Magic & debug not currently used\n",
    "\n",
    "# %load_ext autoreload\n",
    "# %autoreload 2\n",
    "# %env CUDA_VISIBLE_DEVICES='3'\n",
    "# %env \"WANDB_NOTEBOOK_NAME\" \"run.ipynb\" # ❕same as notebook\n",
    "\n",
    "# from jax.config import config\n",
    "# config.update('jax_disable_jit', True)\n",
    "# ```"
   ]
  }
 ],
 "metadata": {
  "kernelspec": {
   "display_name": "dex",
   "language": "python",
   "name": "python3"
  },
  "language_info": {
   "codemirror_mode": {
    "name": "ipython",
    "version": 3
   },
   "file_extension": ".py",
   "mimetype": "text/x-python",
   "name": "python",
   "nbconvert_exporter": "python",
   "pygments_lexer": "ipython3",
   "version": "3.10.8"
  },
  "orig_nbformat": 4,
  "vscode": {
   "interpreter": {
    "hash": "9b4edb4a58a0461d84e636e9142615dc364f099c3851533546c18fbe9e367308"
   }
  }
 },
 "nbformat": 4,
 "nbformat_minor": 2
}
