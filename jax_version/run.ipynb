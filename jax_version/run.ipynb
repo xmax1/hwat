{
 "cells": [
  {
   "cell_type": "code",
   "execution_count": 1,
   "metadata": {},
   "outputs": [],
   "source": [
    "%load_ext autoreload \n",
    "%autoreload 2"
   ]
  },
  {
   "cell_type": "code",
   "execution_count": 5,
   "metadata": {},
   "outputs": [
    {
     "ename": "NameError",
     "evalue": "name 'c' is not defined",
     "output_type": "error",
     "traceback": [
      "\u001b[0;31m---------------------------------------------------------------------------\u001b[0m",
      "\u001b[0;31mNameError\u001b[0m                                 Traceback (most recent call last)",
      "Cell \u001b[0;32mIn [5], line 1\u001b[0m\n\u001b[0;32m----> 1\u001b[0m c\u001b[39m.\u001b[39mwandb_run_path\n",
      "\u001b[0;31mNameError\u001b[0m: name 'c' is not defined"
     ]
    }
   ],
   "source": [
    "c.wandb_run_path"
   ]
  },
  {
   "cell_type": "code",
   "execution_count": 7,
   "metadata": {},
   "outputs": [
    {
     "name": "stdout",
     "output_type": "stream",
     "text": [
      "FILE:  /home/amawi/projects/hwat/jax_version/pyfig.py\n",
      "True False False False\n",
      "🤖 1 GPUs available\n",
      "jupyter nbconvert --to notebook --execute run.ipynb --project_root ~/projects --project hwat --data_dir ~/projects/data --run_path ~/projects/hwat/run.py --exp_name junk --exp_id Ms4tY81 --seed 808017424 --dtype float32 --n_step 10000 --log_metric_step 50 --log_state_step 10 --charge 0 --spin 0 --a [[0.0.0.]] --a_z [4.] --n_e 4 --n_u 2 --n_d 2 --n_b 512 --n_corr 20 --n_equil 10000 --acc_target 0.5 --with_sign False --n_sv 32 --n_pv 32 --n_fbv 160 --n_fb 2 --n_det 1 --terms_s_emb ['ra','ra_len'] --terms_p_emb ['rr','rr_len'] --job_type training --entity hwat --mail_type FAIL --partition sm3090 --nodes 1 --ntasks 8 --cpus_per_task 1 --time 0-12:00:00 --gres gpu:RTX3090:1 --output dump/tmp/o-%j.out --error dump/tmp/e-%j.err --job_name junk --TMP dump/tmp --project_path ~/projects/hwat --server_project_path ~/projects/hwat --n_device 1 --exp_path ~/projects/hwat/exp/junk/Ms4tY81 --server svol.fysik.dtu.dk --user amawi --git_remote origin --git_branch main --env dex --commit_id 68f1466\n",
      "~/projects/hwat jupyter nbconvert --to notebook --execute run.ipynb --project_root ~/projects --project hwat --data_dir ~/projects/data --run_path ~/projects/hwat/run.py --exp_name junk --exp_id Ms4tY81 --seed 808017424 --dtype float32 --n_step 10000 --log_metric_step 50 --log_state_step 10 --charge 0 --spin 0 --a [[0.0.0.]] --a_z [4.] --n_e 4 --n_u 2 --n_d 2 --n_b 512 --n_corr 20 --n_equil 10000 --acc_target 0.5 --with_sign False --n_sv 32 --n_pv 32 --n_fbv 160 --n_fb 2 --n_det 1 --terms_s_emb ['ra','ra_len'] --terms_p_emb ['rr','rr_len'] --job_type training --entity hwat --mail_type FAIL --partition sm3090 --nodes 1 --ntasks 8 --cpus_per_task 1 --time 0-12:00:00 --gres gpu:RTX3090:1 --output dump/tmp/o-%j.out --error dump/tmp/e-%j.err --job_name junk --TMP dump/tmp --project_path ~/projects/hwat --server_project_path ~/projects/hwat --n_device 1 --exp_path ~/projects/hwat/exp/junk/Ms4tY81 --server svol.fysik.dtu.dk --user amawi --git_remote origin --git_branch main --env dex --commit_id 68f1466\n",
      "stdout:  []\n",
      "stderr:  [\"[NbConvertApp] WARNING | Unrecognized alias: 'project_root', it will have no effect.\\n\", \"[NbConvertApp] WARNING | Unrecognized alias: 'project', it will have no effect.\\n\", \"[NbConvertApp] WARNING | Unrecognized alias: 'data_dir', it will have no effect.\\n\", \"[NbConvertApp] WARNING | Unrecognized alias: 'run_path', it will have no effect.\\n\", \"[NbConvertApp] WARNING | Unrecognized alias: 'exp_name', it will have no effect.\\n\", \"[NbConvertApp] WARNING | Unrecognized alias: 'exp_id', it will have no effect.\\n\", \"[NbConvertApp] WARNING | Unrecognized alias: 'seed', it will have no effect.\\n\", \"[NbConvertApp] WARNING | Unrecognized alias: 'dtype', it will have no effect.\\n\", \"[NbConvertApp] WARNING | Unrecognized alias: 'n_step', it will have no effect.\\n\", \"[NbConvertApp] WARNING | Unrecognized alias: 'log_metric_step', it will have no effect.\\n\", \"[NbConvertApp] WARNING | Unrecognized alias: 'log_state_step', it will have no effect.\\n\", \"[NbConvertApp] WARNING | Unrecognized alias: 'charge', it will have no effect.\\n\", \"[NbConvertApp] WARNING | Unrecognized alias: 'spin', it will have no effect.\\n\", \"[NbConvertApp] WARNING | Unrecognized alias: 'a', it will have no effect.\\n\", \"[NbConvertApp] WARNING | Unrecognized alias: 'a_z', it will have no effect.\\n\", \"[NbConvertApp] WARNING | Unrecognized alias: 'n_e', it will have no effect.\\n\", \"[NbConvertApp] WARNING | Unrecognized alias: 'n_u', it will have no effect.\\n\", \"[NbConvertApp] WARNING | Unrecognized alias: 'n_d', it will have no effect.\\n\", \"[NbConvertApp] WARNING | Unrecognized alias: 'n_b', it will have no effect.\\n\", \"[NbConvertApp] WARNING | Unrecognized alias: 'n_corr', it will have no effect.\\n\", \"[NbConvertApp] WARNING | Unrecognized alias: 'n_equil', it will have no effect.\\n\", \"[NbConvertApp] WARNING | Unrecognized alias: 'acc_target', it will have no effect.\\n\", \"[NbConvertApp] WARNING | Unrecognized alias: 'with_sign', it will have no effect.\\n\", \"[NbConvertApp] WARNING | Unrecognized alias: 'n_sv', it will have no effect.\\n\", \"[NbConvertApp] WARNING | Unrecognized alias: 'n_pv', it will have no effect.\\n\", \"[NbConvertApp] WARNING | Unrecognized alias: 'n_fbv', it will have no effect.\\n\", \"[NbConvertApp] WARNING | Unrecognized alias: 'n_fb', it will have no effect.\\n\", \"[NbConvertApp] WARNING | Unrecognized alias: 'n_det', it will have no effect.\\n\", \"[NbConvertApp] WARNING | Unrecognized alias: 'terms_s_emb', it will have no effect.\\n\", \"[NbConvertApp] WARNING | Unrecognized alias: 'terms_p_emb', it will have no effect.\\n\", \"[NbConvertApp] WARNING | Unrecognized alias: 'job_type', it will have no effect.\\n\", \"[NbConvertApp] WARNING | Unrecognized alias: 'entity', it will have no effect.\\n\", \"[NbConvertApp] WARNING | Unrecognized alias: 'mail_type', it will have no effect.\\n\", \"[NbConvertApp] WARNING | Unrecognized alias: 'partition', it will have no effect.\\n\", \"[NbConvertApp] WARNING | Unrecognized alias: 'nodes', it will have no effect.\\n\", \"[NbConvertApp] WARNING | Unrecognized alias: 'ntasks', it will have no effect.\\n\", \"[NbConvertApp] WARNING | Unrecognized alias: 'cpus_per_task', it will have no effect.\\n\", \"[NbConvertApp] WARNING | Unrecognized alias: 'time', it will have no effect.\\n\", \"[NbConvertApp] WARNING | Unrecognized alias: 'gres', it will have no effect.\\n\", \"[NbConvertApp] WARNING | Unrecognized alias: 'error', it will have no effect.\\n\", \"[NbConvertApp] WARNING | Unrecognized alias: 'job_name', it will have no effect.\\n\", \"[NbConvertApp] WARNING | Unrecognized alias: 'TMP', it will have no effect.\\n\", \"[NbConvertApp] CRITICAL | Bad config encountered during initialization: Error loading argument TMP=['dump/tmp'], values whose keys begin with an uppercase char must be Config instances: 'TMP', DeferredConfigString('dump/tmp')\\n\"]\n",
      "[]\n"
     ]
    },
    {
     "data": {
      "text/plain": [
       "' copy lines and run in analysis while the exp is live '"
      ]
     },
     "execution_count": 7,
     "metadata": {},
     "output_type": "execute_result"
    }
   ],
   "source": [
    "### Distribution ✨ ❇ Demo 💪 ### \n",
    "import os\n",
    "os.environ['CUDA_VISIBLE_DEVICES'] = '3'\n",
    "\n",
    "### fancy logging variables, philosophically reminding us of the goal ###\n",
    "fancy = dict(\n",
    "\t\tpe\t\t= r'$V(X)',    \t\t\t\t\n",
    "\t\tke\t\t= r'$\\nabla^2',    \t\t\n",
    "\t\te\t\t= r'$E',\t\t\t\t\t\t\n",
    "\t\tlog_psi\t= r'$\\log\\psi', \t\t\t\n",
    "\t\tdeltar\t= r'$\\delta_\\mathrm{r}',\t\n",
    "\t\tx\t\t= r'$r_\\mathrm{e}',\n",
    ")\n",
    "\n",
    "### pyfig ###\n",
    "from pyfig import Pyfig\n",
    "import numpy as np\n",
    "\n",
    "arg = dict(\n",
    "\tcharge = 0,\n",
    "\tspin  = 0,\n",
    "\ta = np.array([[0.0, 0.0, 0.0],]),\n",
    "\ta_z  = np.array([4.,]),\n",
    "\tn_b = 512, \n",
    "\tn_sv = 32, \n",
    "\tn_pv = 32, \n",
    "\tn_corr = 20, \n",
    "\tn_step = 10000, \n",
    "\tlog_metric_step = 50, \n",
    "\texp_name = 'junk',\n",
    "\t# sweep = {},\n",
    ")\n",
    "\n",
    "c = Pyfig(wandb_mode='disabled', arg=arg, submit=False, notebook=True)\n",
    "\n",
    "n_device = c.n_device\n",
    "print(f'🤖 {n_device} GPUs available')\n",
    "\n",
    "from utils import run_cmds_server\n",
    "cmd = c._run_terminal[['py', 'ipynb'][True]] + c.cmd\n",
    "print(cmd)\n",
    "server_out = run_cmds_server(c.server, c.user, cmd, c.server_project_path)[0]\n",
    "print(server_out)\n",
    "\n",
    "\"\"\" live plotting in another notebook \"\"\"\n",
    "\"\"\" copy lines and run in analysis while the exp is live \"\"\"\n",
    "# api = wandb.Api()\n",
    "# run = api.run(\"<run-here>\")\n",
    "# c = run.config\n",
    "# h = run.history()\n",
    "# s = run.summary"
   ]
  },
  {
   "cell_type": "code",
   "execution_count": 8,
   "metadata": {},
   "outputs": [
    {
     "ename": "ValueError",
     "evalue": "The truth value of an array with more than one element is ambiguous. Use a.any() or a.all()",
     "output_type": "error",
     "traceback": [
      "\u001b[0;31m---------------------------------------------------------------------------\u001b[0m",
      "\u001b[0;31mValueError\u001b[0m                                Traceback (most recent call last)",
      "Cell \u001b[0;32mIn [8], line 1\u001b[0m\n\u001b[0;32m----> 1\u001b[0m c\u001b[39m.\u001b[39;49mcmd\n",
      "File \u001b[0;32m~/projects/hwat/jax_version/pyfig.py:220\u001b[0m, in \u001b[0;36mPyfig.cmd\u001b[0;34m(ii, ignore)\u001b[0m\n\u001b[1;32m    218\u001b[0m \u001b[39m# to_cmd_string = lambda v: str(v).replace('\\n', '-CR-').replace(' ', '-WS-')\u001b[39;00m\n\u001b[1;32m    219\u001b[0m to_cmd_string \u001b[39m=\u001b[39m \u001b[39mlambda\u001b[39;00m v: \u001b[39mstr\u001b[39m(v)\n\u001b[0;32m--> 220\u001b[0m \u001b[39mreturn\u001b[39;00m \u001b[39m'\u001b[39m\u001b[39m \u001b[39m\u001b[39m'\u001b[39m\u001b[39m.\u001b[39mjoin([\u001b[39mf\u001b[39m\u001b[39m'\u001b[39m\u001b[39m --\u001b[39m\u001b[39m{\u001b[39;00mk\u001b[39m}\u001b[39;00m\u001b[39m.replace(\u001b[39m\u001b[39m\"\u001b[39m\u001b[39m \u001b[39m\u001b[39m\"\u001b[39m\u001b[39m, \u001b[39m\u001b[39m\"\u001b[39m\u001b[39m\"\u001b[39m\u001b[39m)  \u001b[39m\u001b[39m{\u001b[39;00mto_cmd_string(v)\u001b[39m.\u001b[39mreplace(\u001b[39m\"\u001b[39m\u001b[39m \u001b[39m\u001b[39m\"\u001b[39m, \u001b[39m\"\u001b[39m\u001b[39m\"\u001b[39m)\u001b[39m}\u001b[39;00m\u001b[39m \u001b[39m\u001b[39m'\u001b[39m \u001b[39mfor\u001b[39;00m k,v \u001b[39min\u001b[39;00m d\u001b[39m.\u001b[39mitems() \u001b[39mif\u001b[39;00m \u001b[39mnot\u001b[39;00m k \u001b[39min\u001b[39;00m ignore \u001b[39mand\u001b[39;00m v])\n",
      "File \u001b[0;32m~/projects/hwat/jax_version/pyfig.py:220\u001b[0m, in \u001b[0;36m<listcomp>\u001b[0;34m(.0)\u001b[0m\n\u001b[1;32m    218\u001b[0m \u001b[39m# to_cmd_string = lambda v: str(v).replace('\\n', '-CR-').replace(' ', '-WS-')\u001b[39;00m\n\u001b[1;32m    219\u001b[0m to_cmd_string \u001b[39m=\u001b[39m \u001b[39mlambda\u001b[39;00m v: \u001b[39mstr\u001b[39m(v)\n\u001b[0;32m--> 220\u001b[0m \u001b[39mreturn\u001b[39;00m \u001b[39m'\u001b[39m\u001b[39m \u001b[39m\u001b[39m'\u001b[39m\u001b[39m.\u001b[39mjoin([\u001b[39mf\u001b[39m\u001b[39m'\u001b[39m\u001b[39m --\u001b[39m\u001b[39m{\u001b[39;00mk\u001b[39m}\u001b[39;00m\u001b[39m.replace(\u001b[39m\u001b[39m\"\u001b[39m\u001b[39m \u001b[39m\u001b[39m\"\u001b[39m\u001b[39m, \u001b[39m\u001b[39m\"\u001b[39m\u001b[39m\"\u001b[39m\u001b[39m)  \u001b[39m\u001b[39m{\u001b[39;00mto_cmd_string(v)\u001b[39m.\u001b[39mreplace(\u001b[39m\"\u001b[39m\u001b[39m \u001b[39m\u001b[39m\"\u001b[39m, \u001b[39m\"\u001b[39m\u001b[39m\"\u001b[39m)\u001b[39m}\u001b[39;00m\u001b[39m \u001b[39m\u001b[39m'\u001b[39m \u001b[39mfor\u001b[39;00m k,v \u001b[39min\u001b[39;00m d\u001b[39m.\u001b[39mitems() \u001b[39mif\u001b[39;00m \u001b[39mnot\u001b[39;00m k \u001b[39min\u001b[39;00m ignore \u001b[39mand\u001b[39;00m v])\n",
      "\u001b[0;31mValueError\u001b[0m: The truth value of an array with more than one element is ambiguous. Use a.any() or a.all()"
     ]
    }
   ],
   "source": [
    "c.cmd"
   ]
  },
  {
   "cell_type": "code",
   "execution_count": 9,
   "metadata": {},
   "outputs": [
    {
     "name": "stdout",
     "output_type": "stream",
     "text": [
      "exp/actual | \n",
      "\trng    : (2,)/(2,) \n",
      "\trng_p  : (1, 2)/(1, 2) \n",
      "\tcps    : (4, 3)/(4, 3)\n",
      "\tr      : (1, 512, 4, 3)/(1, 512, 4, 3)\n",
      "\tdeltar : (1, 1)/(1, 1)\n",
      "\n",
      "path exists, leaving alone\n"
     ]
    }
   ],
   "source": [
    "### model (aka TrainState) ### \n",
    "from functools import partial\n",
    "import jax\n",
    "import optax\n",
    "from flax.training.train_state import TrainState\n",
    "from hwat import FermiNet\n",
    "\n",
    "@partial(jax.pmap, axis_name='dev', in_axes=(0,0))\n",
    "def create_train_state(rng, r):\n",
    "\tmodel = c.partial(FermiNet)\n",
    "\tparams = model.init(rng, r)\n",
    "\topt = optax.chain(optax.clip_by_block_rms(1.),optax.adamw(0.001))\n",
    "\treturn TrainState.create(apply_fn=model.apply, params=params, tx=opt)\n",
    "\n",
    "\n",
    "### train step ###\n",
    "from jax import numpy as jnp\n",
    "from hwat import compute_ke_b, compute_pe_b\n",
    "from typing import NamedTuple\n",
    "\n",
    "@partial(jax.pmap, in_axes=(0, 0))\n",
    "def train_step(state, r_step):\n",
    "\n",
    "\tke = compute_ke_b(state, r_step)\n",
    "\tpe = compute_pe_b(r_step, c.data.a, c.data.a_z)\n",
    "\te = pe + ke\n",
    "\t\n",
    "\te_mean_dist = jnp.mean(jnp.abs(jnp.median(e) - e))\n",
    "\te_clip = jnp.clip(e, a_min=e-5*e_mean_dist, a_max=e+5*e_mean_dist)\n",
    "\n",
    "\tdef loss(params):\n",
    "\t\treturn ((e_clip - e_clip.mean())*state.apply_fn(params, r_step)).mean()\n",
    "\t\n",
    "\tgrads = jax.grad(loss)(state.params)\n",
    "\tstate = state.apply_gradients(grads=grads)\n",
    "\t\n",
    "\tv_tr = dict(\n",
    "\t\tparams=state.params, grads=grads,\n",
    "\t\te=e, pe=pe, ke=ke,\n",
    "\t\tr=r_step\n",
    "\t)\n",
    "\n",
    "\treturn state, v_tr\n",
    "\n",
    "\n",
    "### init variables ###\n",
    "from utils import gen_rng\n",
    "from hwat import init_r, get_center_points\n",
    "from jax import random as rnd\n",
    "\n",
    "rng, rng_p = gen_rng(rnd.PRNGKey(c.seed), c.n_device)\n",
    "center_points = get_center_points(c.data.n_e, c.data.a)\n",
    "r = init_r(rng_p, c.data.n_b, c.data.n_e, center_points, std=0.1)\n",
    "deltar = jnp.array([0.02])[None, :].repeat(n_device, axis=0)\n",
    "\n",
    "print(f\"\"\"exp/actual | \n",
    "\trng    : {(2,)}/{rng.shape} \n",
    "\trng_p  : {(c.n_device,2)}/{rng_p.shape} \n",
    "\tcps    : {(c.data.n_e,3)}/{center_points.shape}\n",
    "\tr      : {(c.n_device, c.data.n_b, c.data.n_e, 3)}/{r.shape}\n",
    "\tdeltar : {(c.n_device, 1)}/{deltar.shape}\n",
    "\"\"\")\n",
    "\n",
    "\n",
    "### init functions ### \n",
    "from hwat import sample_b\n",
    "\n",
    "state = create_train_state(rng_p, r)\n",
    "metro_hast = jax.pmap(partial(sample_b, n_corr=c.data.n_corr), in_axes=(0,0,0,0))\n",
    "\n",
    "\n",
    "### train ###\n",
    "import wandb\n",
    "from hwat import keep_around_points\n",
    "from utils import compute_metrix\n",
    "\n",
    "wandb.define_metric(\"*\", step_metric=\"tr/step\")\n",
    "for step in range(1, c.n_step+1):\n",
    "\trng, rng_p = gen_rng(rng, c.n_device)\n",
    "\n",
    "\tr, acc, deltar = metro_hast(rng_p, state, r, deltar)\n",
    "\tr = keep_around_points(r, center_points, l=2.) if step < 1000 else r\n",
    "\t\n",
    "\tstate, v_tr = train_step(state, r)\n",
    "\n",
    "\tif not (step % c.log_metric_step):\n",
    "\t\tmetrix = compute_metrix(v_tr)\n",
    "\t\twandb.log({'tr/step':step, **metrix})"
   ]
  },
  {
   "cell_type": "code",
   "execution_count": null,
   "metadata": {},
   "outputs": [],
   "source": [
    "# ```{toggle} env vars and jax debug config notes\n",
    "# ❇️ Magic & debug not currently used\n",
    "\n",
    "# %load_ext autoreload\n",
    "# %autoreload 2\n",
    "# %env CUDA_VISIBLE_DEVICES='3'\n",
    "# %env \"WANDB_NOTEBOOK_NAME\" \"run.ipynb\" # ❕same as notebook\n",
    "\n",
    "# from jax.config import config\n",
    "# config.update('jax_disable_jit', True)\n",
    "# ```"
   ]
  }
 ],
 "metadata": {
  "kernelspec": {
   "display_name": "dex",
   "language": "python",
   "name": "python3"
  },
  "language_info": {
   "codemirror_mode": {
    "name": "ipython",
    "version": 3
   },
   "file_extension": ".py",
   "mimetype": "text/x-python",
   "name": "python",
   "nbconvert_exporter": "python",
   "pygments_lexer": "ipython3",
   "version": "3.10.8"
  },
  "orig_nbformat": 4,
  "vscode": {
   "interpreter": {
    "hash": "9b4edb4a58a0461d84e636e9142615dc364f099c3851533546c18fbe9e367308"
   }
  }
 },
 "nbformat": 4,
 "nbformat_minor": 2
}
