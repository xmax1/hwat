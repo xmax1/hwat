{
 "cells": [
  {
   "cell_type": "code",
   "execution_count": 12,
   "metadata": {},
   "outputs": [
    {
     "data": {
      "text/plain": [
       "torch.float64"
      ]
     },
     "execution_count": 12,
     "metadata": {},
     "output_type": "execute_result"
    }
   ],
   "source": [
    "import torch\n",
    "\n",
    "torch.set_default_dtype(torch.float64)\n",
    "type(torch.tensor([1.]))\n",
    "torch.tensor([1.]).dtype"
   ]
  },
  {
   "cell_type": "code",
   "execution_count": 8,
   "metadata": {},
   "outputs": [
    {
     "name": "stdout",
     "output_type": "stream",
     "text": [
      "True\n",
      "False True\n",
      "tensor([[-9.0565],\n",
      "        [ 2.3012],\n",
      "        [-4.6100],\n",
      "        [ 3.8480]]) None tensor([[-9.0565],\n",
      "        [ 2.3012],\n",
      "        [-4.6100],\n",
      "        [ 3.8480]])\n"
     ]
    },
    {
     "ename": "RuntimeError",
     "evalue": "Can't call numpy() on Tensor that requires grad. Use tensor.detach().numpy() instead.",
     "output_type": "error",
     "traceback": [
      "\u001b[0;31m---------------------------------------------------------------------------\u001b[0m",
      "\u001b[0;31mRuntimeError\u001b[0m                              Traceback (most recent call last)",
      "Cell \u001b[0;32mIn[8], line 18\u001b[0m\n\u001b[1;32m     14\u001b[0m \u001b[39mprint\u001b[39m(x\u001b[39m.\u001b[39mgrad, x_prime\u001b[39m.\u001b[39mgrad, x\u001b[39m.\u001b[39mgrad\u001b[39m.\u001b[39mdetach())\n\u001b[1;32m     16\u001b[0m \u001b[39m# detach removes grad from \u001b[39;00m\n\u001b[0;32m---> 18\u001b[0m \u001b[39mprint\u001b[39m(x\u001b[39m.\u001b[39;49mcpu()\u001b[39m.\u001b[39;49mnumpy())\n",
      "\u001b[0;31mRuntimeError\u001b[0m: Can't call numpy() on Tensor that requires grad. Use tensor.detach().numpy() instead."
     ]
    }
   ],
   "source": [
    "import torch\n",
    "\n",
    "def fn(x):\n",
    "    z = x * 2\n",
    "    return z**2\n",
    "\n",
    "x = torch.randn(size=(4, 1))\n",
    "x.requires_grad_(True)\n",
    "print(x.requires_grad)\n",
    "y = fn(x)\n",
    "y.sum().backward()\n",
    "x_prime = x.detach()\n",
    "print(x_prime.requires_grad, x.requires_grad)\n",
    "print(x.grad, x_prime.grad, x.grad.detach())\n",
    "\n",
    "# detach removes grad from param\n",
    "# !!! get grad out first\n",
    "\n",
    "print(x.cpu().numpy())\n"
   ]
  }
 ],
 "metadata": {
  "kernelspec": {
   "display_name": "zen",
   "language": "python",
   "name": "python3"
  },
  "language_info": {
   "codemirror_mode": {
    "name": "ipython",
    "version": 3
   },
   "file_extension": ".py",
   "mimetype": "text/x-python",
   "name": "python",
   "nbconvert_exporter": "python",
   "pygments_lexer": "ipython3",
   "version": "3.10.9"
  },
  "orig_nbformat": 4,
  "vscode": {
   "interpreter": {
    "hash": "64821b3e694a3ec7953af9a8b7742dc9cf1382ccd10bc8e79dcca2d04e96fa05"
   }
  }
 },
 "nbformat": 4,
 "nbformat_minor": 2
}
