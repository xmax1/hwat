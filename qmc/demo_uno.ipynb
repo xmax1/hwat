{
 "cells": [
  {
   "cell_type": "code",
   "execution_count": 1,
   "metadata": {},
   "outputs": [],
   "source": [
    "import os\n",
    "os.environ[\"MKL_NUM_THREADS\"] = \"1\"\n",
    "os.environ[\"NUMEXPR_NUM_THREADS\"] = \"1\"\n",
    "os.environ[\"OMP_NUM_THREADS\"] = \"1\"\n",
    "import numpy as np\n",
    "import pandas as pd\n",
    "from pyscf import gto, scf\n",
    "import pyqmc.api as pyq\n",
    "import h5py\n",
    "import matplotlib.pyplot as plt\n",
    "from ase.data.pubchem import pubchem_atoms_search\n",
    "import pyscf.pbc.tools.pyscf_ase as pyscf_ase\n",
    "\n",
    "# Here we reset the files\n",
    "for fname in ['mf.hdf5','optimized_wf.hdf5','vmc_data.hdf5','dmc.hdf5']:\n",
    "    if os.path.isfile(fname):\n",
    "        os.remove(fname)"
   ]
  },
  {
   "cell_type": "code",
   "execution_count": 2,
   "metadata": {},
   "outputs": [
    {
     "name": "stdout",
     "output_type": "stream",
     "text": [
      "['PH3', 'P2', 'CH3CHO', 'H2COH', 'CS', 'OCHCHO', 'C3H9C', 'CH3COF', 'CH3CH2OCH3', 'HCOOH', 'HCCl3', 'HOCl', 'H2', 'SH2', 'C2H2', 'C4H4NH', 'CH3SCH3', 'SiH2_s3B1d', 'CH3SH', 'CH3CO', 'CO', 'ClF3', 'SiH4', 'C2H6CHOH', 'CH2NHCH2', 'isobutene', 'HCO', 'bicyclobutane', 'LiF', 'Si', 'C2H6', 'CN', 'ClNO', 'S', 'SiF4', 'H3CNH2', 'methylenecyclopropane', 'CH3CH2OH', 'F', 'NaCl', 'CH3Cl', 'CH3SiH3', 'AlF3', 'C2H3', 'ClF', 'PF3', 'PH2', 'CH3CN', 'cyclobutene', 'CH3ONO', 'SiH3', 'C3H6_D3h', 'CO2', 'NO', 'trans-butane', 'H2CCHCl', 'LiH', 'NH2', 'CH', 'CH2OCH2', 'C6H6', 'CH3CONH2', 'cyclobutane', 'H2CCHCN', 'butadiene', 'C', 'H2CO', 'CH3COOH', 'HCF3', 'CH3S', 'CS2', 'SiH2_s1A1d', 'C4H4S', 'N2H4', 'OH', 'CH3OCH3', 'C5H5N', 'H2O', 'HCl', 'CH2_s1A1d', 'CH3CH2SH', 'CH3NO2', 'Cl', 'Be', 'BCl3', 'C4H4O', 'Al', 'CH3O', 'CH3OH', 'C3H7Cl', 'isobutane', 'Na', 'CCl4', 'CH3CH2O', 'H2CCHF', 'C3H7', 'CH3', 'O3', 'P', 'C2H4', 'NCCN', 'S2', 'AlCl3', 'SiCl4', 'SiO', 'C3H4_D2d', 'H', 'COF2', '2-butyne', 'C2H5', 'BF3', 'N2O', 'F2O', 'SO2', 'H2CCl2', 'CF3CN', 'HCN', 'C2H6NH', 'OCS', 'B', 'ClO', 'C3H8', 'HF', 'O2', 'SO', 'NH', 'C2F4', 'NF3', 'CH2_s3B1d', 'CH3CH2Cl', 'CH3COCl', 'NH3', 'C3H9N', 'CF4', 'C3H6_Cs', 'Si2H6', 'HCOOCH3', 'O', 'CCH', 'N', 'Si2', 'C2H6SO', 'C5H8', 'H2CF2', 'Li2', 'CH2SCH2', 'C2Cl4', 'C3H4_C3v', 'CH3COCH3', 'F2', 'CH4', 'SH', 'H2CCO', 'CH3CH2NH2', 'Li', 'N2', 'Cl2', 'H2O2', 'Na2', 'BeH', 'C3H4_C2v', 'NO2']\n",
      "dict_keys(['Be2', 'C7NH5', 'BDA', 'biphenyl', 'C60'])\n"
     ]
    }
   ],
   "source": [
    "from ase.collections import g2\n",
    "print(g2.names)\n",
    "from ase.build.molecule import extra\n",
    "print(extra.keys())"
   ]
  },
  {
   "cell_type": "code",
   "execution_count": 14,
   "metadata": {},
   "outputs": [
    {
     "name": "stdout",
     "output_type": "stream",
     "text": [
      "converged SCF energy = -76.0167894720692\n"
     ]
    }
   ],
   "source": [
    "from pyscf import scf\n",
    "mol_h2o = gto.M(atom = 'O 0 0 0; H 0 1 0; H 0 0 1', basis = 'ccpvdz')\n",
    "rhf_h2o = scf.RHF(mol_h2o)\n",
    "e_h2o = rhf_h2o.kernel()"
   ]
  },
  {
   "cell_type": "code",
   "execution_count": 16,
   "metadata": {},
   "outputs": [
    {
     "name": "stdout",
     "output_type": "stream",
     "text": [
      "converged SCF energy = -76.0259894063648\n",
      "starting warmup\n",
      "---vmc done\n",
      "finished warmup\n",
      "----------vmc done\n",
      "descent en -101.13529362865327 0.5796428563089683  estimated sigma  57.96428563089683\n",
      "descent |grad| 17.01035370751467\n",
      "----------vmc done\n",
      "descent en -97.58549261981548 0.1383224320269355  estimated sigma  13.832243202693551\n",
      "descent |grad| 26.766160277614414\n",
      "----------vmc done\n",
      "descent en -103.90292602470852 4.520181142938934  estimated sigma  452.0181142938934\n",
      "descent |grad| 167.2618309781129\n",
      "----------vmc done\n",
      "descent en 49.07286339359655 9.863571906758967  estimated sigma  986.3571906758967\n",
      "descent |grad| 154.67578272474654\n",
      "----------vmc done\n",
      "descent en -27.716268348107626 3.21018846534349  estimated sigma  321.018846534349\n",
      "descent |grad| 76.16062243053305\n",
      "----------vmc done\n",
      "descent en -47.04025707423333 12.53851979919566  estimated sigma  1253.851979919566\n",
      "descent |grad| 607.0434087809106\n",
      "----------vmc done\n",
      "descent en -7.342640430867891 4.260756104912589  estimated sigma  426.0756104912589\n",
      "descent |grad| 27.973568981587704\n",
      "----"
     ]
    },
    {
     "ename": "KeyboardInterrupt",
     "evalue": "",
     "output_type": "error",
     "traceback": [
      "\u001b[0;31m---------------------------------------------------------------------------\u001b[0m",
      "\u001b[0;31mKeyboardInterrupt\u001b[0m                         Traceback (most recent call last)",
      "\u001b[1;32m/home/amawi/projects/qmc_baselines/demo_uno.ipynb Cell 4\u001b[0m in \u001b[0;36m<cell line: 22>\u001b[0;34m()\u001b[0m\n\u001b[1;32m     <a href='vscode-notebook-cell://ssh-remote%2Btitan08.compute.dtu.dk/home/amawi/projects/qmc_baselines/demo_uno.ipynb#W1sdnNjb2RlLXJlbW90ZQ%3D%3D?line=17'>18</a>\u001b[0m     mf\u001b[39m.\u001b[39mkernel()\n\u001b[1;32m     <a href='vscode-notebook-cell://ssh-remote%2Btitan08.compute.dtu.dk/home/amawi/projects/qmc_baselines/demo_uno.ipynb#W1sdnNjb2RlLXJlbW90ZQ%3D%3D?line=19'>20</a>\u001b[0m mean_field(\u001b[39m\"\u001b[39m\u001b[39mmf.hdf5\u001b[39m\u001b[39m\"\u001b[39m)\n\u001b[0;32m---> <a href='vscode-notebook-cell://ssh-remote%2Btitan08.compute.dtu.dk/home/amawi/projects/qmc_baselines/demo_uno.ipynb#W1sdnNjb2RlLXJlbW90ZQ%3D%3D?line=21'>22</a>\u001b[0m pyq\u001b[39m.\u001b[39;49mOPTIMIZE(\n\u001b[1;32m     <a href='vscode-notebook-cell://ssh-remote%2Btitan08.compute.dtu.dk/home/amawi/projects/qmc_baselines/demo_uno.ipynb#W1sdnNjb2RlLXJlbW90ZQ%3D%3D?line=22'>23</a>\u001b[0m     \u001b[39m\"\u001b[39;49m\u001b[39mmf.hdf5\u001b[39;49m\u001b[39m\"\u001b[39;49m,           \u001b[39m# Construct a Slater-Jastrow wave function from the pyscf output\u001b[39;49;00m\n\u001b[1;32m     <a href='vscode-notebook-cell://ssh-remote%2Btitan08.compute.dtu.dk/home/amawi/projects/qmc_baselines/demo_uno.ipynb#W1sdnNjb2RlLXJlbW90ZQ%3D%3D?line=23'>24</a>\u001b[0m     \u001b[39m\"\u001b[39;49m\u001b[39moptimized_wf.hdf5\u001b[39;49m\u001b[39m\"\u001b[39;49m, \u001b[39m# Store optimized parameters in this file.\u001b[39;49;00m\n\u001b[1;32m     <a href='vscode-notebook-cell://ssh-remote%2Btitan08.compute.dtu.dk/home/amawi/projects/qmc_baselines/demo_uno.ipynb#W1sdnNjb2RlLXJlbW90ZQ%3D%3D?line=24'>25</a>\u001b[0m     nconfig\u001b[39m=\u001b[39;49m\u001b[39m100\u001b[39;49m,         \u001b[39m# Optimize using this many Monte Carlo samples/configurations\u001b[39;49;00m\n\u001b[1;32m     <a href='vscode-notebook-cell://ssh-remote%2Btitan08.compute.dtu.dk/home/amawi/projects/qmc_baselines/demo_uno.ipynb#W1sdnNjb2RlLXJlbW90ZQ%3D%3D?line=25'>26</a>\u001b[0m     max_iterations\u001b[39m=\u001b[39;49m\u001b[39m10\u001b[39;49m,   \u001b[39m# 10 optimization steps\u001b[39;49;00m\n\u001b[1;32m     <a href='vscode-notebook-cell://ssh-remote%2Btitan08.compute.dtu.dk/home/amawi/projects/qmc_baselines/demo_uno.ipynb#W1sdnNjb2RlLXJlbW90ZQ%3D%3D?line=26'>27</a>\u001b[0m     verbose\u001b[39m=\u001b[39;49m\u001b[39mTrue\u001b[39;49;00m\n\u001b[1;32m     <a href='vscode-notebook-cell://ssh-remote%2Btitan08.compute.dtu.dk/home/amawi/projects/qmc_baselines/demo_uno.ipynb#W1sdnNjb2RlLXJlbW90ZQ%3D%3D?line=27'>28</a>\u001b[0m     )\n\u001b[1;32m     <a href='vscode-notebook-cell://ssh-remote%2Btitan08.compute.dtu.dk/home/amawi/projects/qmc_baselines/demo_uno.ipynb#W1sdnNjb2RlLXJlbW90ZQ%3D%3D?line=29'>30</a>\u001b[0m df \u001b[39m=\u001b[39m pyq\u001b[39m.\u001b[39mread_opt(\u001b[39m\"\u001b[39m\u001b[39moptimized_wf.hdf5\u001b[39m\u001b[39m\"\u001b[39m)\n\u001b[1;32m     <a href='vscode-notebook-cell://ssh-remote%2Btitan08.compute.dtu.dk/home/amawi/projects/qmc_baselines/demo_uno.ipynb#W1sdnNjb2RlLXJlbW90ZQ%3D%3D?line=30'>31</a>\u001b[0m \u001b[39mprint\u001b[39m(df)\n",
      "File \u001b[0;32m~/.conda/envs/qmc/lib/python3.10/site-packages/pyqmc/recipes.py:58\u001b[0m, in \u001b[0;36mOPTIMIZE\u001b[0;34m(dft_checkfile, output, anchors, nconfig, ci_checkfile, load_parameters, S, jastrow_kws, slater_kws, target_root, nodal_cutoff, **linemin_kws)\u001b[0m\n\u001b[1;32m     45\u001b[0m wf, configs, acc \u001b[39m=\u001b[39m initialize_qmc_objects(\n\u001b[1;32m     46\u001b[0m     dft_checkfile,\n\u001b[1;32m     47\u001b[0m     opt_wf\u001b[39m=\u001b[39m\u001b[39mTrue\u001b[39;00m,\n\u001b[0;32m   (...)\u001b[0m\n\u001b[1;32m     55\u001b[0m     nodal_cutoff\u001b[39m=\u001b[39mnodal_cutoff,\n\u001b[1;32m     56\u001b[0m )\n\u001b[1;32m     57\u001b[0m \u001b[39mif\u001b[39;00m anchors \u001b[39mis\u001b[39;00m \u001b[39mNone\u001b[39;00m:\n\u001b[0;32m---> 58\u001b[0m     linemin\u001b[39m.\u001b[39;49mline_minimization(wf, configs, acc, \u001b[39m*\u001b[39;49m\u001b[39m*\u001b[39;49mlinemin_kws)\n\u001b[1;32m     59\u001b[0m \u001b[39melse\u001b[39;00m:\n\u001b[1;32m     60\u001b[0m     wfs \u001b[39m=\u001b[39m []\n",
      "File \u001b[0;32m~/.conda/envs/qmc/lib/python3.10/site-packages/pyqmc/linemin.py:200\u001b[0m, in \u001b[0;36mline_minimization\u001b[0;34m(wf, coords, pgrad_acc, steprange, max_iterations, warmup_options, vmcoptions, lmoptions, update, update_kws, verbose, npts, hdf_file, client, npartitions)\u001b[0m\n\u001b[1;32m    197\u001b[0m \u001b[39m# Gradient descent cycles\u001b[39;00m\n\u001b[1;32m    198\u001b[0m \u001b[39mfor\u001b[39;00m it \u001b[39min\u001b[39;00m \u001b[39mrange\u001b[39m(max_iterations):\n\u001b[1;32m    199\u001b[0m     \u001b[39m# Calculate gradient accurately\u001b[39;00m\n\u001b[0;32m--> 200\u001b[0m     coords, pgrad, Sij, en, en_err, sigma \u001b[39m=\u001b[39m gradient_energy_function(x0, coords)\n\u001b[1;32m    201\u001b[0m     step_data \u001b[39m=\u001b[39m {}\n\u001b[1;32m    202\u001b[0m     step_data[\u001b[39m\"\u001b[39m\u001b[39menergy\u001b[39m\u001b[39m\"\u001b[39m] \u001b[39m=\u001b[39m en\n",
      "File \u001b[0;32m~/.conda/envs/qmc/lib/python3.10/site-packages/pyqmc/linemin.py:157\u001b[0m, in \u001b[0;36mline_minimization.<locals>.gradient_energy_function\u001b[0;34m(x, coords)\u001b[0m\n\u001b[1;32m    155\u001b[0m \u001b[39mfor\u001b[39;00m k \u001b[39min\u001b[39;00m newparms:\n\u001b[1;32m    156\u001b[0m     wf\u001b[39m.\u001b[39mparameters[k] \u001b[39m=\u001b[39m newparms[k]\n\u001b[0;32m--> 157\u001b[0m df, coords \u001b[39m=\u001b[39m pyqmc\u001b[39m.\u001b[39;49mmc\u001b[39m.\u001b[39;49mvmc(\n\u001b[1;32m    158\u001b[0m     wf,\n\u001b[1;32m    159\u001b[0m     coords,\n\u001b[1;32m    160\u001b[0m     accumulators\u001b[39m=\u001b[39;49m{\u001b[39m\"\u001b[39;49m\u001b[39mpgrad\u001b[39;49m\u001b[39m\"\u001b[39;49m: pgrad_acc},\n\u001b[1;32m    161\u001b[0m     client\u001b[39m=\u001b[39;49mclient,\n\u001b[1;32m    162\u001b[0m     npartitions\u001b[39m=\u001b[39;49mnpartitions,\n\u001b[1;32m    163\u001b[0m     \u001b[39m*\u001b[39;49m\u001b[39m*\u001b[39;49mvmcoptions,\n\u001b[1;32m    164\u001b[0m )\n\u001b[1;32m    165\u001b[0m en \u001b[39m=\u001b[39m np\u001b[39m.\u001b[39mreal(np\u001b[39m.\u001b[39mmean(df[\u001b[39m\"\u001b[39m\u001b[39mpgradtotal\u001b[39m\u001b[39m\"\u001b[39m], axis\u001b[39m=\u001b[39m\u001b[39m0\u001b[39m))\n\u001b[1;32m    166\u001b[0m en_err \u001b[39m=\u001b[39m np\u001b[39m.\u001b[39mstd(df[\u001b[39m\"\u001b[39m\u001b[39mpgradtotal\u001b[39m\u001b[39m\"\u001b[39m], axis\u001b[39m=\u001b[39m\u001b[39m0\u001b[39m) \u001b[39m/\u001b[39m np\u001b[39m.\u001b[39msqrt(df[\u001b[39m\"\u001b[39m\u001b[39mpgradtotal\u001b[39m\u001b[39m\"\u001b[39m]\u001b[39m.\u001b[39mshape[\u001b[39m0\u001b[39m])\n",
      "File \u001b[0;32m~/.conda/envs/qmc/lib/python3.10/site-packages/pyqmc/mc.py:231\u001b[0m, in \u001b[0;36mvmc\u001b[0;34m(wf, configs, nblocks, nsteps_per_block, nsteps, tstep, accumulators, verbose, stepoffset, hdf_file, continue_from, client, npartitions)\u001b[0m\n\u001b[1;32m    229\u001b[0m     \u001b[39mprint\u001b[39m(\u001b[39mf\u001b[39m\u001b[39m\"\u001b[39m\u001b[39m-\u001b[39m\u001b[39m\"\u001b[39m, end\u001b[39m=\u001b[39m\u001b[39m\"\u001b[39m\u001b[39m\"\u001b[39m, flush\u001b[39m=\u001b[39m\u001b[39mTrue\u001b[39;00m)\n\u001b[1;32m    230\u001b[0m \u001b[39mif\u001b[39;00m client \u001b[39mis\u001b[39;00m \u001b[39mNone\u001b[39;00m:\n\u001b[0;32m--> 231\u001b[0m     block_avg, configs \u001b[39m=\u001b[39m vmc_worker(\n\u001b[1;32m    232\u001b[0m         wf, configs, tstep, nsteps_per_block, accumulators\n\u001b[1;32m    233\u001b[0m     )\n\u001b[1;32m    234\u001b[0m \u001b[39melse\u001b[39;00m:\n\u001b[1;32m    235\u001b[0m     block_avg, configs \u001b[39m=\u001b[39m vmc_parallel(\n\u001b[1;32m    236\u001b[0m         wf, configs, tstep, nsteps_per_block, accumulators, client, npartitions\n\u001b[1;32m    237\u001b[0m     )\n",
      "File \u001b[0;32m~/.conda/envs/qmc/lib/python3.10/site-packages/pyqmc/mc.py:110\u001b[0m, in \u001b[0;36mvmc_worker\u001b[0;34m(wf, configs, tstep, nsteps, accumulators)\u001b[0m\n\u001b[1;32m    107\u001b[0m newcoorde \u001b[39m=\u001b[39m configs\u001b[39m.\u001b[39mmake_irreducible(e, newcoorde)\n\u001b[1;32m    109\u001b[0m \u001b[39m# Compute reverse move\u001b[39;00m\n\u001b[0;32m--> 110\u001b[0m g, new_val, saved \u001b[39m=\u001b[39m wf\u001b[39m.\u001b[39;49mgradient_value(e, newcoorde)\n\u001b[1;32m    111\u001b[0m new_grad \u001b[39m=\u001b[39m limdrift(np\u001b[39m.\u001b[39mreal(g\u001b[39m.\u001b[39mT))\n\u001b[1;32m    112\u001b[0m forward \u001b[39m=\u001b[39m np\u001b[39m.\u001b[39msum(gauss \u001b[39m*\u001b[39m\u001b[39m*\u001b[39m \u001b[39m2\u001b[39m, axis\u001b[39m=\u001b[39m\u001b[39m1\u001b[39m)\n",
      "File \u001b[0;32m~/.conda/envs/qmc/lib/python3.10/site-packages/pyqmc/multiplywf.py:103\u001b[0m, in \u001b[0;36mMultiplyWF.gradient_value\u001b[0;34m(self, e, epos)\u001b[0m\n\u001b[1;32m    102\u001b[0m \u001b[39mdef\u001b[39;00m \u001b[39mgradient_value\u001b[39m(\u001b[39mself\u001b[39m, e, epos):\n\u001b[0;32m--> 103\u001b[0m     grad_vals \u001b[39m=\u001b[39m [wf\u001b[39m.\u001b[39mgradient_value(e, epos) \u001b[39mfor\u001b[39;00m wf \u001b[39min\u001b[39;00m \u001b[39mself\u001b[39m\u001b[39m.\u001b[39mwf_factors]\n\u001b[1;32m    104\u001b[0m     grads, vals, saved_values \u001b[39m=\u001b[39m \u001b[39mlist\u001b[39m(\u001b[39mzip\u001b[39m(\u001b[39m*\u001b[39mgrad_vals))\n\u001b[1;32m    105\u001b[0m     \u001b[39mreturn\u001b[39;00m np\u001b[39m.\u001b[39msum(grads, axis\u001b[39m=\u001b[39m\u001b[39m0\u001b[39m), np\u001b[39m.\u001b[39mprod(vals, axis\u001b[39m=\u001b[39m\u001b[39m0\u001b[39m), saved_values\n",
      "File \u001b[0;32m~/.conda/envs/qmc/lib/python3.10/site-packages/pyqmc/multiplywf.py:103\u001b[0m, in \u001b[0;36m<listcomp>\u001b[0;34m(.0)\u001b[0m\n\u001b[1;32m    102\u001b[0m \u001b[39mdef\u001b[39;00m \u001b[39mgradient_value\u001b[39m(\u001b[39mself\u001b[39m, e, epos):\n\u001b[0;32m--> 103\u001b[0m     grad_vals \u001b[39m=\u001b[39m [wf\u001b[39m.\u001b[39;49mgradient_value(e, epos) \u001b[39mfor\u001b[39;00m wf \u001b[39min\u001b[39;00m \u001b[39mself\u001b[39m\u001b[39m.\u001b[39mwf_factors]\n\u001b[1;32m    104\u001b[0m     grads, vals, saved_values \u001b[39m=\u001b[39m \u001b[39mlist\u001b[39m(\u001b[39mzip\u001b[39m(\u001b[39m*\u001b[39mgrad_vals))\n\u001b[1;32m    105\u001b[0m     \u001b[39mreturn\u001b[39;00m np\u001b[39m.\u001b[39msum(grads, axis\u001b[39m=\u001b[39m\u001b[39m0\u001b[39m), np\u001b[39m.\u001b[39mprod(vals, axis\u001b[39m=\u001b[39m\u001b[39m0\u001b[39m), saved_values\n",
      "File \u001b[0;32m~/.conda/envs/qmc/lib/python3.10/site-packages/pyqmc/jastrowspin.py:304\u001b[0m, in \u001b[0;36mJastrowSpin.gradient_value\u001b[0;34m(self, e, epos)\u001b[0m\n\u001b[1;32m    302\u001b[0m bgrad, bval \u001b[39m=\u001b[39m b\u001b[39m.\u001b[39mgradient_value(dnew, rnew)\n\u001b[1;32m    303\u001b[0m bvals\u001b[39m.\u001b[39mappend(bval)\n\u001b[0;32m--> 304\u001b[0m grad \u001b[39m+\u001b[39m\u001b[39m=\u001b[39m c[edown] \u001b[39m*\u001b[39m gpu\u001b[39m.\u001b[39;49mcp\u001b[39m.\u001b[39;49msum(bgrad[:, : nup \u001b[39m-\u001b[39;49m eup], axis\u001b[39m=\u001b[39;49m\u001b[39m1\u001b[39;49m)\u001b[39m.\u001b[39mT\n\u001b[1;32m    305\u001b[0m grad \u001b[39m+\u001b[39m\u001b[39m=\u001b[39m c[\u001b[39m1\u001b[39m \u001b[39m+\u001b[39m edown] \u001b[39m*\u001b[39m gpu\u001b[39m.\u001b[39mcp\u001b[39m.\u001b[39msum(bgrad[:, nup \u001b[39m-\u001b[39m eup :], axis\u001b[39m=\u001b[39m\u001b[39m1\u001b[39m)\u001b[39m.\u001b[39mT\n\u001b[1;32m    306\u001b[0m b_partial_e[\u001b[39m.\u001b[39m\u001b[39m.\u001b[39m\u001b[39m.\u001b[39m, l, \u001b[39m0\u001b[39m] \u001b[39m=\u001b[39m bval[\u001b[39m.\u001b[39m\u001b[39m.\u001b[39m\u001b[39m.\u001b[39m, : nup \u001b[39m-\u001b[39m eup]\u001b[39m.\u001b[39msum(axis\u001b[39m=\u001b[39m\u001b[39m-\u001b[39m\u001b[39m1\u001b[39m)\n",
      "File \u001b[0;32m<__array_function__ internals>:177\u001b[0m, in \u001b[0;36msum\u001b[0;34m(*args, **kwargs)\u001b[0m\n",
      "\u001b[0;31mKeyboardInterrupt\u001b[0m: "
     ]
    }
   ],
   "source": [
    "\n",
    "def mean_field(chkfile):\n",
    "    atoms =  pubchem_atoms_search(name='water')\n",
    "    # from ase import Atoms\n",
    "    # # d = 1.1\n",
    "    # # co = Atoms('CO', positions=[(0, 0, 0), (0, 0, d)])\n",
    "    # pos = [\n",
    "    #     (-0.41050479500000, -0.02822011359072, -0.61865600306683), \n",
    "    #     (-0.41050479500000,1.99057945949862, 0.10790294909375)\n",
    "    #     ]\n",
    "    # atoms = Atoms('FeS', pos)  # -1667 Hartrees\n",
    "    \n",
    "    mol = gto.M(\n",
    "        atom=pyscf_ase.ase_atoms_to_pyscf(atoms),\n",
    "        basis = 'ccpvdz'\n",
    "    )\n",
    "    mf = scf.RHF(mol)\n",
    "    mf.chkfile = chkfile\n",
    "    mf.kernel()\n",
    "\n",
    "mean_field(\"mf.hdf5\")\n",
    "\n",
    "pyq.OPTIMIZE(\n",
    "    \"mf.hdf5\",           # Construct a Slater-Jastrow wave function from the pyscf output\n",
    "    \"optimized_wf.hdf5\", # Store optimized parameters in this file.\n",
    "    nconfig=100,         # Optimize using this many Monte Carlo samples/configurations\n",
    "    max_iterations=10,   # 10 optimization steps\n",
    "    verbose=True\n",
    "    )\n",
    "\n",
    "df = pyq.read_opt(\"optimized_wf.hdf5\")\n",
    "print(df)\n"
   ]
  },
  {
   "cell_type": "code",
   "execution_count": 12,
   "metadata": {},
   "outputs": [
    {
     "data": {
      "text/plain": [
       "4.4535787065618875"
      ]
     },
     "execution_count": 12,
     "metadata": {},
     "output_type": "execute_result"
    }
   ],
   "source": [
    "-76 / -17.064928006778427 \n",
    "\n",
    "\n",
    "13.61 "
   ]
  },
  {
   "cell_type": "code",
   "execution_count": 10,
   "metadata": {},
   "outputs": [
    {
     "name": "stdout",
     "output_type": "stream",
     "text": [
      "keys ['configs', 'energy', 'energy_error', 'est_min', 'iteration', 'nconfig', 'pgradient', 'tau', 'wf', 'x', 'yfit']\n",
      "wave function parameters ['wf2acoeff', 'wf2bcoeff']\n",
      "[[-0.25       -0.5        -0.25      ]\n",
      " [ 0.0419967   0.04133952  0.03825168]\n",
      " [-0.13702907 -0.26074258 -0.14264762]\n",
      " [-0.12726007 -0.13692625 -0.11740974]]\n",
      "------------------------------vmc done\n"
     ]
    },
    {
     "data": {
      "text/plain": [
       "{'fname': 'vmc_data.hdf5',\n",
       " 'warmup': 1,\n",
       " 'reblock': None,\n",
       " 'acceptance': 0.5960129310344826,\n",
       " 'acceptance_err': 0.0011434977754205366,\n",
       " 'energyecp': 1.2483304405365818,\n",
       " 'energyecp_err': 0.010178561670557494,\n",
       " 'energyee': 17.104863100284064,\n",
       " 'energyee_err': 0.014472777093208171,\n",
       " 'energyei': -55.41418809033711,\n",
       " 'energyei_err': 0.03671205259712123,\n",
       " 'energygrad2': 25.927714741170472,\n",
       " 'energygrad2_err': 0.15635692825276343,\n",
       " 'energyke': 13.09615293453345,\n",
       " 'energyke_err': 0.022833963607181696,\n",
       " 'energytotal': -17.064928006778427,\n",
       " 'energytotal_err': 0.004973795622867411}"
      ]
     },
     "execution_count": 10,
     "metadata": {},
     "output_type": "execute_result"
    }
   ],
   "source": [
    "\n",
    "with h5py.File(\"optimized_wf.hdf5\") as f:\n",
    "    print(\"keys\", list(f.keys()))\n",
    "    print(\"wave function parameters\", list(f['wf'].keys()))\n",
    "    print(f['wf/wf2bcoeff'][()])\n",
    "\n",
    "pyq.VMC(\n",
    "    \"mf.hdf5\",                            #Construct a Slater-Jastrow wave function from this file\n",
    "    \"vmc_data.hdf5\",                      #Store Monte Carlo data in this file\n",
    "    load_parameters=\"optimized_wf.hdf5\", #Load optimized parameters from this file\n",
    "    nblocks=30,                           #Run for 30 blocks. By default, there are 10 steps per block and 1000 configurations\n",
    "    verbose=True\n",
    "    )\n",
    "\n",
    "pyq.read_mc_output(\"vmc_data.hdf5\")\n"
   ]
  },
  {
   "cell_type": "code",
   "execution_count": 7,
   "metadata": {},
   "outputs": [
    {
     "name": "stdout",
     "output_type": "stream",
     "text": [
      "WARNING: running VMC with no accumulators\n",
      "----------vmc done\n",
      "eref start -17.192471365209855 esigma 0.6060084566788402\n",
      "energy -17.157144470191746 e_trial -17.157228021762993 e_est -17.157144470191746 sigma(w) 0.028121692186981673\n",
      "energy -17.344268092247443 e_trial -17.256326213115855 e_est -17.250953702916675 sigma(w) 0.0330978784312599\n",
      "energy -17.259404482932535 e_trial -17.26778521394214 e_est -17.253791818373227 sigma(w) 0.04143125195867796\n",
      "energy -17.40644270587499 e_trial -17.36597716413347 e_est -17.3370329027962 sigma(w) 0.0516052550073507\n",
      "energy -17.43129645519727 e_trial -17.40214139507521 e_est -17.3610424776499 sigma(w) 0.01746554421569447\n",
      "energy -17.456741270793692 e_trial -17.424460863159332 e_est -17.380513577220036 sigma(w) 0.033640124772223466\n",
      "energy -17.414828294497763 e_trial -17.429154365739393 e_est -17.38630965249341 sigma(w) 0.032293753018377655\n",
      "energy -17.563422198214667 e_trial -17.469484192182147 e_est -17.422926451459464 sigma(w) 0.02646388732300086\n",
      "energy -17.354273648027046 e_trial -17.4609495330722 e_est -17.413020709406787 sigma(w) 0.021417731974286473\n",
      "energy -17.256323357338363 e_trial -17.423180972569188 e_est -17.39357639701326 sigma(w) 0.036374984226705986\n"
     ]
    },
    {
     "data": {
      "text/plain": [
       "Text(0, 0.5, 'Energy (Hartree)')"
      ]
     },
     "execution_count": 7,
     "metadata": {},
     "output_type": "execute_result"
    },
    {
     "data": {
      "image/png": "[encoded data removed]",
      "text/plain": [
       "<Figure size 640x480 with 1 Axes>"
      ]
     },
     "metadata": {},
     "output_type": "display_data"
    }
   ],
   "source": [
    "\n",
    "pyq.DMC(\n",
    "    \"mf.hdf5\",\n",
    "    \"dmc.hdf5\",                            #Initialize the Slater-Jastrow wave function using pyscf\n",
    "    load_parameters=f\"optimized_wf.hdf5\",  #Load the optimized parameters\n",
    "    verbose=True,\n",
    "    tstep=.1,                              #timestep of 0.1 Hartrees^-1\n",
    "    nsteps=int(1/.1),                      #propagate for 50 Hartrees^-1\n",
    "    branchtime=1,                          #Efficiency parameter; these are 'mini-blocks'\n",
    "    nconfig=10                             #Use 1,000 configurations\n",
    "    )                         \n",
    "\n",
    "with h5py.File(\"dmc.hdf5\") as f:\n",
    "    en = f['energytotal'][...]\n",
    "\n",
    "plt.plot(en, marker='o')\n",
    "plt.xlabel(\"DMC step\")\n",
    "plt.ylabel(\"Energy (Hartree)\")\n"
   ]
  },
  {
   "cell_type": "code",
   "execution_count": null,
   "metadata": {},
   "outputs": [],
   "source": []
  }
 ],
 "metadata": {
  "kernelspec": {
   "display_name": "Python 3.10.6 ('qmc')",
   "language": "python",
   "name": "python3"
  },
  "language_info": {
   "codemirror_mode": {
    "name": "ipython",
    "version": 3
   },
   "file_extension": ".py",
   "mimetype": "text/x-python",
   "name": "python",
   "nbconvert_exporter": "python",
   "pygments_lexer": "ipython3",
   "version": "3.10.6"
  },
  "orig_nbformat": 4,
  "vscode": {
   "interpreter": {
    "hash": "766bfa37fa40681fe0023fbe6639478c330be14a3ec9b8479a6a1c6104cc7956"
   }
  }
 },
 "nbformat": 4,
 "nbformat_minor": 2
}
